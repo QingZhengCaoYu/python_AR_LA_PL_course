{
 "cells": [
  {
   "cell_type": "markdown",
   "id": "67fbc9fc-734e-47e5-9f64-d3b26dd945c5",
   "metadata": {},
   "source": [
    "print('hellow,python!')\n",
    "print(\"hellow,world!\")\n",
    "print(\"编程让设计更具创造力\")\n",
    "print(\"Everybody should learn how to code a computer, because it teaches you how to think, and allows designers more creative!\")\n",
    "print(\"_\"*50)\n",
    "print(\"thank you teacher！\"*3)"
   ]
  },
  {
   "cell_type": "code",
   "execution_count": 9,
   "id": "00b35c6d",
   "metadata": {
    "scrolled": true
   },
   "outputs": [
    {
     "data": {
      "text/plain": [
       "0.75"
      ]
     },
     "execution_count": 9,
     "metadata": {},
     "output_type": "execute_result"
    }
   ],
   "source": [
    "x=3\n",
    "y=4\n",
    "x/y"
   ]
  },
  {
   "cell_type": "code",
   "execution_count": 11,
   "id": "d13d90b4",
   "metadata": {},
   "outputs": [
    {
     "data": {
      "text/plain": [
       "3"
      ]
     },
     "execution_count": 11,
     "metadata": {},
     "output_type": "execute_result"
    }
   ],
   "source": [
    "x,y=(3,4)\n",
    "x"
   ]
  },
  {
   "cell_type": "code",
   "execution_count": 2,
   "id": "3299d726",
   "metadata": {},
   "outputs": [
    {
     "name": "stdout",
     "output_type": "stream",
     "text": [
      "6\n",
      "2\n",
      "9\n",
      "1\n",
      "1\n",
      "81\n",
      "1\n"
     ]
    }
   ],
   "source": [
    "print(3+3)\n",
    "print(3-1)\n",
    "print(3*3)\n",
    "print(3//3)  \n",
    "print(4//3)\n",
    "print(3**4)\n",
    "print(3%2)"
   ]
  },
  {
   "cell_type": "code",
   "execution_count": 23,
   "id": "4b9cb29a-7cf0-4909-944d-96e4832ffd4b",
   "metadata": {},
   "outputs": [
    {
     "data": {
      "text/plain": [
       "True"
      ]
     },
     "execution_count": 23,
     "metadata": {},
     "output_type": "execute_result"
    }
   ],
   "source": [
    "x=10\n",
    "x==10#\"==\"为关系运算，输出值为布尔数"
   ]
  },
  {
   "cell_type": "code",
   "execution_count": 12,
   "id": "57c26139",
   "metadata": {},
   "outputs": [
    {
     "name": "stdout",
     "output_type": "stream",
     "text": [
      "4\n"
     ]
    }
   ],
   "source": [
    "x=3\n",
    "x=4\n",
    "print(x)"
   ]
  },
  {
   "cell_type": "markdown",
   "id": "afed7421",
   "metadata": {},
   "source": [
    "“=”为给x赋值，从上往下运行，会覆盖过上方，所以输出x为4"
   ]
  },
  {
   "cell_type": "code",
   "execution_count": 4,
   "id": "2e4749f5",
   "metadata": {},
   "outputs": [
    {
     "name": "stdout",
     "output_type": "stream",
     "text": [
      "11\n"
     ]
    }
   ],
   "source": [
    "x=5\n",
    "func=2*x+1\n",
    "print(func)"
   ]
  },
  {
   "cell_type": "code",
   "execution_count": 16,
   "id": "0662f390-9f5f-44ac-8625-937c53565c45",
   "metadata": {},
   "outputs": [
    {
     "name": "stdout",
     "output_type": "stream",
     "text": [
      "monadic_equation= 15.0\n",
      "monadic_equation=15.00\n",
      "monadic_equation=15.00\n"
     ]
    }
   ],
   "source": [
    "x=7.00\n",
    "monadic_equation=2*x+1\n",
    "print(\"monadic_equation=\",monadic_equation)\n",
    "print(\"monadic_equation=%.2f\"%monadic_equation) #%字符串格式化方法\n",
    "print(\"monadic_equation={:.2f}\".format(monadic_equation))# format()字符串格式化方法"
   ]
  },
  {
   "cell_type": "raw",
   "id": "b7a0fe9f-956b-4531-b72c-5bba44f3d3fe",
   "metadata": {},
   "source": [
    "#.2f 浮点数，小数点后两位  .nf 小数点后n位"
   ]
  },
  {
   "cell_type": "code",
   "execution_count": 20,
   "id": "a2bd98a6-84ac-40ce-8b0b-e694066678e3",
   "metadata": {},
   "outputs": [
    {
     "name": "stdout",
     "output_type": "stream",
     "text": [
      "monadic_equation\n",
      "15.0\n"
     ]
    }
   ],
   "source": [
    "x=7.0\n",
    "monadic_equation=2*x+1\n",
    "print(\"monadic_equation\")\n",
    "print(monadic_equation)"
   ]
  },
  {
   "cell_type": "code",
   "execution_count": 60,
   "id": "4408644b-457d-4201-9ede-dfe2d63232e8",
   "metadata": {},
   "outputs": [
    {
     "name": "stdout",
     "output_type": "stream",
     "text": [
      "The longitude of the Xi'an coordinate is 108.942292, and the latitude is 34.261013.\n"
     ]
    }
   ],
   "source": [
    "city_name=\"Xi'an\"\n",
    "coordinate_longitude=108.942292\n",
    "coordiante_latitude=34.261013\n",
    "print(\"The longitude of the Xi'an coordinate is \\\n",
    "{lon}, and the latitude is {lat}.\".format(lon=coordinate_longitude,lat=coordiante_latitude))"
   ]
  },
  {
   "cell_type": "code",
   "execution_count": 11,
   "id": "6cdbbe10-7a0e-4355-b14c-fba1b9d07aa1",
   "metadata": {},
   "outputs": [
    {
     "name": "stdout",
     "output_type": "stream",
     "text": [
      "-1\n"
     ]
    }
   ],
   "source": [
    "(x,y),(a,b)=(0,1),(2,3)\n",
    "func_2=2*x+3*y+a-2*b\n",
    "print(func_2)"
   ]
  },
  {
   "cell_type": "code",
   "execution_count": 12,
   "id": "58a55919-54df-48f7-8733-2aa798d3c8e3",
   "metadata": {},
   "outputs": [
    {
     "name": "stdout",
     "output_type": "stream",
     "text": [
      "111111\n"
     ]
    }
   ],
   "source": [
    "x=\"01123456\"[1]#序列从0开始，第一个数字对应系列里的0\n",
    "y=\"01123456\"[2]\n",
    "a=\"01123456\"[2]\n",
    "func_2=2*x+3*y+a\n",
    "print(func_2)"
   ]
  },
  {
   "cell_type": "code",
   "execution_count": 40,
   "id": "d0909680-fb44-4381-b452-a306931e98fe",
   "metadata": {},
   "outputs": [
    {
     "name": "stdout",
     "output_type": "stream",
     "text": [
      "[5, 7, 9, 11, 13, 15, 17, 19]\n",
      "The list length=8\n",
      "Maximum value=19\n",
      "Minimum value=5\n"
     ]
    }
   ],
   "source": [
    "lst_n=list(range(5,20,2)) #建立列表。range(开始数值,结束数值,[,step]步长)建立区间。\n",
    "print(lst_n)\n",
    "print(\"The list length={}\".format(len(lst_n)))\n",
    "print(\"Maximum value={}\".format(max(lst_n)))\n",
    "print(\"Minimum value={}\".format(min(lst_n)))"
   ]
  },
  {
   "cell_type": "code",
   "execution_count": 70,
   "id": "72febdc1-5b3b-48c9-808e-43bd0f83125c",
   "metadata": {},
   "outputs": [
    {
     "name": "stdout",
     "output_type": "stream",
     "text": [
      "['d', 'e', 'f', 'g', 'h', 'i', 'j', 'k', 'l', 'm']\n",
      "7\n",
      "________________________________________\n",
      "i\n",
      "[3:6]->['g', 'h', 'i']\n",
      "[-3:-1]->['k', 'l']\n",
      "[3:]->['g', 'h', 'i', 'j', 'k', 'l', 'm']\n",
      "[-3:]->['k', 'l', 'm']\n",
      "[:3]->['d', 'e', 'f']\n",
      "[:]->['d', 'e', 'f', 'g', 'h', 'i', 'j', 'k', 'l', 'm']\n"
     ]
    }
   ],
   "source": [
    "lst_s=list(map(chr,range(100,110)))\n",
    "print(lst_s)\n",
    "print(lst_s.index('k'))#索引：.index()查找列表中某一值的位置\n",
    "print(\"_\"*40)\n",
    "print(lst_s[-5])\n",
    "print(\"[3:6]->{}\".format(lst_s[3:6]))\n",
    "#正数：开始位置是从0算起，结束位置是从1算起。\n",
    "print(\"[-3:-1]->{}\".format(lst_s[-3:-1]))\n",
    "#倒数：\n",
    "print(\"[3:]->{}\".format(lst_s[3:]))\n",
    "#缺省结束值(正数）：从列表的第四位一直取到列表结束\n",
    "print(\"[-3:]->{}\".format(lst_s[-3:]))\n",
    "#缺省结束值（倒数）：从列表的倒数第3位一直取到列表结束\n",
    "print(\"[:3]->{}\".format(lst_s[:3]))\n",
    "#缺省开始值(正数）：取列表前3位\n",
    "print(\"[:]->{}\".format(lst_s[:]))"
   ]
  },
  {
   "cell_type": "code",
   "execution_count": 4,
   "id": "ebffa35a-f4b5-48e3-aa33-8e3aa2b77e6d",
   "metadata": {},
   "outputs": [
    {
     "name": "stdout",
     "output_type": "stream",
     "text": [
      "Help on class map in module builtins:\n",
      "\n",
      "class map(object)\n",
      " |  map(func, *iterables) --> map object\n",
      " |  \n",
      " |  Make an iterator that computes the function using arguments from\n",
      " |  each of the iterables.  Stops when the shortest iterable is exhausted.\n",
      " |  \n",
      " |  Methods defined here:\n",
      " |  \n",
      " |  __getattribute__(self, name, /)\n",
      " |      Return getattr(self, name).\n",
      " |  \n",
      " |  __iter__(self, /)\n",
      " |      Implement iter(self).\n",
      " |  \n",
      " |  __next__(self, /)\n",
      " |      Implement next(self).\n",
      " |  \n",
      " |  __reduce__(...)\n",
      " |      Return state information for pickling.\n",
      " |  \n",
      " |  ----------------------------------------------------------------------\n",
      " |  Static methods defined here:\n",
      " |  \n",
      " |  __new__(*args, **kwargs) from builtins.type\n",
      " |      Create and return a new object.  See help(type) for accurate signature.\n",
      "\n"
     ]
    }
   ],
   "source": [
    "help(map)"
   ]
  },
  {
   "cell_type": "code",
   "execution_count": 10,
   "id": "0aa42b5f-64b9-4d3f-800b-15e6beebcb83",
   "metadata": {},
   "outputs": [
    {
     "name": "stdout",
     "output_type": "stream",
     "text": [
      "Help on built-in function chr in module builtins:\n",
      "\n",
      "chr(i, /)\n",
      "    Return a Unicode string of one character with ordinal i; 0 <= i <= 0x10ffff.\n",
      "\n"
     ]
    }
   ],
   "source": [
    "help(chr)"
   ]
  },
  {
   "cell_type": "code",
   "execution_count": 33,
   "id": "45677d2a-9735-4375-b969-959224545527",
   "metadata": {},
   "outputs": [
    {
     "name": "stdout",
     "output_type": "stream",
     "text": [
      "['d', 'e', 'f', 'g', 'h', 'i', 'j', 'k', 'l', 'm']\n",
      "________________________________________\n",
      "[0:10:3]->['d', 'g', 'j', 'm']\n",
      "[::3]->['d', 'g', 'j', 'm']\n",
      "[9:3:-2]->['m', 'k', 'i']\n",
      "[10:3:-2]->['m', 'k', 'i']\n",
      "[7::-2]->['k', 'i', 'g', 'e']\n",
      "[:3:-2]->['m', 'k', 'i']\n"
     ]
    }
   ],
   "source": [
    "print(lst_s)\n",
    "print(\"_\"*40)\n",
    "print(\"[0:10:3]->{}\".format(lst_s[0:10:3]))\n",
    "print(\"[::3]->{}\".format(lst_s[::3]))\n",
    "#以上均为正数列表分片\n",
    "print(\"[9:3:-2]->{}\".format(lst_s[9:3:-2]))\n",
    "print(\"[10:3:-2]->{}\".format(lst_s[10:3:-2]))\n",
    "print(\"[7::-2]->{}\".format(lst_s[7::-2]))\n",
    "print(\"[:3:-2]->{}\".format(lst_s[:3:-2]))"
   ]
  },
  {
   "cell_type": "code",
   "execution_count": 63,
   "id": "f9c89323-e798-4499-8c65-78615d70a7fa",
   "metadata": {},
   "outputs": [
    {
     "name": "stdout",
     "output_type": "stream",
     "text": [
      "['d', 'e', 'f', 'g', 'h', 99, 'j', 'k', 'l', 'm']\n",
      "__________________________________________________\n",
      "lst_s[5]=99->['d', 'e', 'f', 'g', 'h', 99, 'j', 'k', 'l', 'm']\n",
      "lst_s+[None]*6->['d', 'e', 'f', 'g', 'h', 99, 'j', 'k', 'l', 'm', None, None, None, None, None, None]\n",
      "lst_none[13]=2021->['d', 'e', 'f', 'g', 'h', 99, 'j', 'k', 'l', 'm', None, None, None, 2021, None, None]\n",
      "['d', 'e', 'f', 'g', 'h', 99, 'j', 'k', 'l', 'm', 0, 2, 4, 6, 2021, None, None]\n",
      "['d', 0, 0, 0, 1, 'e', 'f', 'g', 'h', 99, 'j', 'k', 'l', 'm', 0, 2, 4, 6, 2021, None, None]\n",
      "['d', 0, 0, 0, 1, 'e', 'f', 'g', 'h', 99, 'j', 'k', 'l', 'm', 0, 2, 4, 6, 2021]\n"
     ]
    }
   ],
   "source": [
    "print(lst_s)\n",
    "print(\"_\"*50)\n",
    "lst_s[5]=99 #列表[]内元素可赋值，元组()内不可改变赋值\n",
    "print(\"lst_s[5]=99->{}\".format(lst_s))\n",
    "lst_none=lst_s+[None]*6\n",
    "print(\"lst_s+[None]*6->{}\".format(lst_none))\n",
    "lst_none[13]=2021\n",
    "print(\"lst_none[13]=2021->{}\".format(lst_none))\n",
    "lst_none[-6:-3]=list(range(0,8,2))\n",
    "print(lst_none)\n",
    "lst_none[1:1]=[0,0,0,1]#不替换第二位数，在第一位数后增加一组数\n",
    "print(lst_none)\n",
    "del lst_none[-2:]\n",
    "print(lst_none)"
   ]
  },
  {
   "cell_type": "markdown",
   "id": "53942f9d-b354-4c7e-8160-35d4cc138a17",
   "metadata": {},
   "source": [
    "函数：function将要执行的动作（object）被执行的对象         方法|     |在method方法下操作的项值\n",
    "方法：object.method(item)\n",
    "具有method|方法的对象"
   ]
  },
  {
   "cell_type": "code",
   "execution_count": 65,
   "id": "643d9aa0-0413-41be-aca7-889dbca0d0a2",
   "metadata": {},
   "outputs": [
    {
     "name": "stdout",
     "output_type": "stream",
     "text": [
      "['d', 'e', 'f', 'g', 'h']\n",
      "(1)________________________________________\n",
      "['d', 'e', 'f', 'g', 'h', 99]\n",
      "['d', 'e', 'f', 'g', 'h', 99, [50, 53, 56, 59, 62, 65, 68, 71, 74, 77]]\n",
      "(2)________________________________________\n",
      "['d', 'e', 'f', 'g', 'h', 99, [50, 53, 56, 59, 62, 65, 68, 71, 74, 77], '*', ')', '*', '*', '2', '3']\n",
      "(3)以下为检索的方法_________________________\n",
      "1\n",
      "3\n",
      "7\n",
      "(4)________________________________________\n",
      "['d', 'e', [1000, 1200, 1500], 'f', 'g', 'h', 99, [50, 53, 56, 59, 62, 65, 68, 71, 74, 77], '*', ')', '*', '*', '2', '3']\n"
     ]
    }
   ],
   "source": [
    "lst_s2=list(map(chr,range(100,105)))\n",
    "print(lst_s2)\n",
    "print('(1)'+\"_\"*40)\n",
    "lst_s2.append(99)#append[变量]扩展一个新变量到列表中\n",
    "print(lst_s2)\n",
    "lst_s2.append(list(range(50,80,3)))\n",
    "print(lst_s2)\n",
    "print('(2)'+\"_\"*40)\n",
    "lst_spechars=['*',')','*','*']\n",
    "lst_s2.extend(lst_spechars)\n",
    "lst_s2.extend(['2','3'])\n",
    "#extendx[新列表]扩展一些新变量到一个列表中\n",
    "print(lst_s2)"
   ]
  },
  {
   "cell_type": "code",
   "execution_count": 66,
   "id": "28636b85-2895-4277-b61e-419fe57d3e9e",
   "metadata": {},
   "outputs": [
    {
     "name": "stdout",
     "output_type": "stream",
     "text": [
      "(3)以下为检索的方法_________________________\n",
      "1\n",
      "3\n",
      "8\n",
      "(4)________________________________________\n",
      "['d', 'e', [1000, 1200, 1500], [1000, 1200, 1500], 'f', 'g', 'h', 99, [50, 53, 56, 59, 62, 65, 68, 71, 74, 77], '*', ')', '*', '*', '2', '3']\n"
     ]
    }
   ],
   "source": [
    "print('(3)'+'以下为检索的方法'+\"_\"*25)\n",
    "print(lst_s2.count('d'))\n",
    "print(lst_s2.count('*'))#count数列表中字符的数量\n",
    "print(lst_s2.index('*'))\n",
    "#疑问：如果列表中有多个相同的字符如何索引到全部的字符eg:'*'\n",
    "print('(4)'+\"_\"*40)\n",
    "lst_s2.insert(2,[1000,1200,1500])\n",
    "#insert(插入位置，[列表])\n",
    "print(lst_s2)"
   ]
  },
  {
   "cell_type": "code",
   "execution_count": 64,
   "id": "0bdbefdb-b5db-49a0-baa4-b7ef7da78e80",
   "metadata": {},
   "outputs": [
    {
     "name": "stdout",
     "output_type": "stream",
     "text": [
      "(5)________________________________________\n",
      "*\n",
      "lst_s2.pop(7)_popup->)\n",
      "(6)________________________________________\n",
      "['d', 'e', [1000, 1200, 1500], 'f', 'g', 'h', '*', '2', '3']\n",
      "['d', 'e', [1000, 1200, 1500], 'f', 'g', 'h', '2', '3']\n",
      "(7)________________________________________\n",
      "[2, 3, 4, 6, 42, 95]\n"
     ]
    }
   ],
   "source": [
    "print('(5)'+\"_\"*40)\n",
    "print(lst_s2.pop(7))#pop检索列表第7位并从列表中提取出（列表位置从0数起）\n",
    "print(\"lst_s2.pop(7)_popup->{}\".format(lst_s2.pop(6)))\n",
    "print('(6)'+\"_\"*40)\n",
    "print(lst_s2)\n",
    "lst_s2.remove('*')\n",
    "print(lst_s2)\n",
    "print('(7)'+\"_\"*40)\n",
    "list_n_2=[2,42,6,95,4,3]\n",
    "list_n_2.sort()\n",
    "print(list_n_2)#.sort()从小到大顺序排列"
   ]
  },
  {
   "cell_type": "code",
   "execution_count": 40,
   "id": "59f3e7c4-0172-479b-a494-5c046dcbf0b6",
   "metadata": {},
   "outputs": [
    {
     "name": "stdout",
     "output_type": "stream",
     "text": [
      "tuple_1=2,3,5,->(2, 3, 5)\n",
      "3*(20*3,)->(60, 60, 60)\n",
      "tuple((5,8,9))->(5, 8, 9)\n",
      "tuple([5,8,9])->(5, 8, 9)\n"
     ]
    }
   ],
   "source": [
    "tuple_1=2,3,5,\n",
    "print(\"tuple_1=2,3,5,->{}\".format(tuple_1))\n",
    "print(\"3*(20*3,)->{}\".format(3*(20*3,)))\n",
    "print(\"tuple((5,8,9))->{}\".format(tuple((5,8,9)))) #用()\n",
    "print(\"tuple([5,8,9])->{}\".format(tuple([5,8,9]))) #用[]"
   ]
  },
  {
   "cell_type": "markdown",
   "id": "f850b6aa-0aea-4075-bcda-52582f010b59",
   "metadata": {},
   "source": [
    "#元组和列表类似，只是元组不能够修改，但是可以提取项值。"
   ]
  },
  {
   "cell_type": "markdown",
   "id": "08f0e1c5-8987-4810-96f4-5ab0849e40dd",
   "metadata": {},
   "source": [
    "Dictionary 键key和值value一一对应，只需要考虑使用键寻找值"
   ]
  },
  {
   "cell_type": "code",
   "execution_count": 27,
   "id": "33b82e66-ee49-4bfd-9680-ab684773cedb",
   "metadata": {},
   "outputs": [
    {
     "name": "stdout",
     "output_type": "stream",
     "text": [
      "[(0, [0, 1, 2, 3, 4]), (1, [[150, 186, 134]]), (2, 'python')]\n"
     ]
    }
   ],
   "source": [
    "import random\n",
    "items=[(0,[i for i in range(5)]),(1,[random.sample(list(range(100,200,1)),3)]),(2,'python')]\n",
    "#[i for i in range(5)] 为列表推导式 list comprehension/derivation\n",
    "print(items)\n",
    "dic=dict(items)"
   ]
  },
  {
   "cell_type": "code",
   "execution_count": 37,
   "id": "48f2471e-9077-4c2a-8e4b-f3791be920e6",
   "metadata": {},
   "outputs": [
    {
     "name": "stdout",
     "output_type": "stream",
     "text": [
      "dict_keys([0, 2, 3])\n",
      "dict_values([[0, 1, 2, 3, 4], 'python', (0.10324929391877213, 282.2622595827624)])\n",
      "dict_items([(0, [0, 1, 2, 3, 4]), (2, 'python'), (3, (0.10324929391877213, 282.2622595827624))])\n",
      "[0, 2, 3]\n"
     ]
    }
   ],
   "source": [
    "print (dic.keys())\n",
    "print (dic.values())\n",
    "print (dic.items())\n",
    "print (list(dic.keys()))"
   ]
  },
  {
   "cell_type": "code",
   "execution_count": 28,
   "id": "d09c962b-7470-4600-946b-34a55975fe45",
   "metadata": {},
   "outputs": [
    {
     "name": "stdout",
     "output_type": "stream",
     "text": [
      "dic=dict(items)->{0: [0, 1, 2, 3, 4], 1: [[150, 186, 134]], 2: 'python'}\n",
      "python\n",
      "len(dic)->3\n",
      "dic[3]=(random.random(),random.uniform(200,300))->{0: [0, 1, 2, 3, 4], 1: [[150, 186, 134]], 2: 'python', 3: (0.10324929391877213, 282.2622595827624)}\n",
      "{0: [0, 1, 2, 3, 4], 2: 'python', 3: (0.10324929391877213, 282.2622595827624)}\n"
     ]
    }
   ],
   "source": [
    "print(\"dic=dict(items)->{}\".format(dic))\n",
    "print(dic[2])\n",
    "print(\"len(dic)->{}\".format(len(dic)))\n",
    "dic[3]=(random.random(),random.uniform(200,300))#随机生成区间在200-300的一个字符 \n",
    "print(\"dic[3]=(random.random(),random.uniform(200,300))->{}\".format(dic))\n",
    "del dic[1]\n",
    "print(dic)"
   ]
  },
  {
   "cell_type": "code",
   "execution_count": 30,
   "id": "c84ee09b-6635-4dfa-8350-499827c4323f",
   "metadata": {},
   "outputs": [
    {
     "name": "stdout",
     "output_type": "stream",
     "text": [
      "False\n",
      "True\n",
      "False\n"
     ]
    }
   ],
   "source": [
    "print(1 in dic)\n",
    "print(3 in dic)\n",
    "print(5 in dic)#布尔值判断字典中是否存在"
   ]
  },
  {
   "cell_type": "code",
   "execution_count": 38,
   "id": "a8e83964-57e9-4418-830f-9a9ead639279",
   "metadata": {},
   "outputs": [
    {
     "name": "stdout",
     "output_type": "stream",
     "text": [
      "0 (0, [0, 1, 2, 3, 4])\n",
      "1 (2, 'python')\n",
      "2 (3, (0.10324929391877213, 282.2622595827624))\n"
     ]
    }
   ],
   "source": [
    "for k,v in enumerate(dic.items()): #enumerate[ɪˈnjuːməreɪt]列举\n",
    "    print(k,v)"
   ]
  },
  {
   "cell_type": "raw",
   "id": "03f318ff-05a5-42f0-8903-8971912dfab3",
   "metadata": {},
   "source": [
    "#字典的方法"
   ]
  },
  {
   "cell_type": "code",
   "execution_count": 39,
   "id": "7dd88dfe-4822-495d-a005-c5bf4c4c53ec",
   "metadata": {},
   "outputs": [
    {
     "name": "stdout",
     "output_type": "stream",
     "text": [
      "[6, 9, 12, 15, 18] [100, 115, 130, 145]\n"
     ]
    }
   ],
   "source": [
    "lst_A=list(range(6,20,3))\n",
    "lst_B=list(range(100,150,15))\n",
    "print(lst_A,lst_B)"
   ]
  },
  {
   "cell_type": "code",
   "execution_count": 40,
   "id": "d271c11d-cd59-415b-8789-e1f9903c5621",
   "metadata": {},
   "outputs": [
    {
     "name": "stdout",
     "output_type": "stream",
     "text": [
      "{0: [6, 9, 12, 15, 18], 1: [100, 115, 130, 145]}\n"
     ]
    }
   ],
   "source": [
    "dic_2={0:lst_A,1:lst_B}\n",
    "print(dic_2)"
   ]
  },
  {
   "cell_type": "code",
   "execution_count": 42,
   "id": "abddd948-418c-4243-854e-2eff50d2c2e7",
   "metadata": {},
   "outputs": [
    {
     "name": "stdout",
     "output_type": "stream",
     "text": [
      "{}\n"
     ]
    }
   ],
   "source": [
    "dic_2.clear()#清除dictionary\n",
    "print(dic_2)"
   ]
  },
  {
   "cell_type": "code",
   "execution_count": 57,
   "id": "9e5eea4a-38cb-4135-b47a-abc2379e5882",
   "metadata": {},
   "outputs": [
    {
     "name": "stdout",
     "output_type": "stream",
     "text": [
      "{5: [1, 3, 5, 7], 8: [5, 7]}\n",
      "{5: [1, 3, 5, 7], 8: [5, 7]}\n",
      "{5: [1, 3, 7], 8: [5, 7]}\n"
     ]
    }
   ],
   "source": [
    "dic_2[5]=list(range(1,9,2))\n",
    "print(dic_2)\n",
    "dic_copy=dic_2.copy()\n",
    "print(dic_copy)\n",
    "dic_copy[5].remove(5)\n",
    "print(dic_copy)"
   ]
  },
  {
   "cell_type": "code",
   "execution_count": 77,
   "id": "20850a5f-0f36-459f-acbd-6580917925a8",
   "metadata": {},
   "outputs": [
    {
     "name": "stdout",
     "output_type": "stream",
     "text": [
      "{8: [5, 7], 9: [3, 2, 33, 55, 66]}\n",
      "{5: [1, 3, 7], 8: [5, 7], 6: [77, 99]}\n",
      "{8: [5, 7], 9: [3, 2, 33, 55, 66]}\n"
     ]
    }
   ],
   "source": [
    "dic_2[8]=[5,7]\n",
    "print(dic_2)\n",
    "dic_copy.setdefault(6,[77,99]) #setdefault用于设置key的默认值\n",
    "#返回指定键的值，如果不存在该键，则字典增加新的键/值对\n",
    "print(dic_copy)"
   ]
  },
  {
   "cell_type": "code",
   "execution_count": 79,
   "id": "7c047703-355b-4f4c-b7be-3f45e949cb17",
   "metadata": {},
   "outputs": [
    {
     "name": "stdout",
     "output_type": "stream",
     "text": [
      "{8: [5, 7, 6, 3, 2], 9: [3, 2, 33, 55, 66]}\n",
      "{9: [3, 2, 33, 55, 66]}\n"
     ]
    }
   ],
   "source": [
    "dic_update={8:[5,7,6,3,2],9:[3,2,33,55,66]}\n",
    "dic_2.update(dic_update) #更新字典\n",
    "print(dic_2)\n",
    "dic_2.pop(8)#移除指定键/值，并返回该值\n",
    "print(dic_2)"
   ]
  },
  {
   "cell_type": "code",
   "execution_count": 22,
   "id": "bc76e467-78ec-4eb3-b78f-e0d52267d6c1",
   "metadata": {},
   "outputs": [
    {
     "name": "stdout",
     "output_type": "stream",
     "text": [
      "{9: [3, 2, 33, 55, 66]}\n",
      "[3, 2, 33, 55, 66]\n",
      "[3, 2, 33, 55, 66]\n",
      "None\n"
     ]
    }
   ],
   "source": [
    "dic_2={9: [3, 2, 33, 55, 66]}\n",
    "print (dic_2)\n",
    "print(dic_2[9])#字典中调用键(9)对应的值(方法一)\n",
    "dic_2[8]#字典中没有此键会报错\n",
    "print (dic_2.get(9))#字典中调用键(9)对应的值(方法二)\n",
    "print (dic_2.get(8))#使用get()即使字典中没有此键不会返回值，也不会报错"
   ]
  },
  {
   "cell_type": "code",
   "execution_count": 8,
   "id": "139c48b2-7595-4e1c-93f7-79e878cb39ee",
   "metadata": {},
   "outputs": [
    {
     "name": "stdout",
     "output_type": "stream",
     "text": [
      "{0: None, 1: None, 2: None, 3: None, 4: None, 'A': None}\n"
     ]
    }
   ],
   "source": [
    "dic_3={}.fromkeys([0,1,2,3,4,'A']) \n",
    "#给定键，建立值为空的字典\n",
    "print(dic_3)"
   ]
  },
  {
   "cell_type": "markdown",
   "id": "ba53d067-6f1f-4f6a-8651-b9b64a8b6b0c",
   "metadata": {},
   "source": [
    "#d.keys()+d.values()+d.items()\n",
    "\n",
    "d.get()+d.setdefault()\n",
    "\n",
    "d.pop()+d.popitem()\n",
    "\n",
    "d.copy()\n",
    "\n",
    "d.update()\n",
    "\n",
    "d.fromkeys()"
   ]
  },
  {
   "cell_type": "markdown",
   "id": "303020db-77d6-4c80-997e-a90034d0c63a",
   "metadata": {},
   "source": [
    "sting字符串 -基础"
   ]
  },
  {
   "cell_type": "code",
   "execution_count": 5,
   "id": "0f06037a-18ac-40d0-8d1c-98c6d2507ef8",
   "metadata": {},
   "outputs": [
    {
     "name": "stdout",
     "output_type": "stream",
     "text": [
      "['H', 'e', 'l', 'l', 'o', ' ', 'P', 'y', 't', 'h', 'o', 'n', '!']\n",
      "\"Hellow\"+\" Python!\"->Hellow Python!\n"
     ]
    }
   ],
   "source": [
    "lst_3=list(\"Hello Python!\")\n",
    "print(lst_3)\n",
    "print(\"\\\"Hellow\\\"+\\\" Python!\\\"->{}\".format(\"Hellow\"+\" Python!\"))"
   ]
  },
  {
   "cell_type": "code",
   "execution_count": 8,
   "id": "eb7937ba-ab14-4a89-a4b5-c72a807f83db",
   "metadata": {},
   "outputs": [
    {
     "name": "stdout",
     "output_type": "stream",
     "text": [
      "1+2+3+4+5+6\n",
      "14\n"
     ]
    }
   ],
   "source": [
    "print (\"+\".join(str(123456)))#str()将参数的变量类型改为文本\n",
    "print (len(\"Hellow Python!\"))"
   ]
  },
  {
   "cell_type": "code",
   "execution_count": 13,
   "id": "2b8429cc-27d3-4f2c-ba7b-6c4d7982a1c1",
   "metadata": {},
   "outputs": [
    {
     "name": "stdout",
     "output_type": "stream",
     "text": [
      "['6.7', '7.7', '8.7']\n",
      "(6.7, 7.7, 8.7)\n",
      "________________________________________\n",
      "hello python!\n",
      "HELLO PYTHON!\n",
      "Hello Python!\n"
     ]
    }
   ],
   "source": [
    "coordinates=\"6.7,7.7,8.7\"#coordinates坐标\n",
    "print (coordinates.split(\",\"))#用split()分离字符串\n",
    "print (eval(coordinates))#通常用eval()方法将字符串，转换为对应数值形式；\n",
    "print('_'*40)\n",
    "print (\"Hello Python!\".lower())\n",
    "print (\"Hello Python!\".upper())\n",
    "print (\"   Hello Python!  \".strip())"
   ]
  },
  {
   "cell_type": "code",
   "execution_count": 14,
   "id": "1f4d68e7-4273-47ed-b223-3e3680791c25",
   "metadata": {},
   "outputs": [
    {
     "name": "stdout",
     "output_type": "stream",
     "text": [
      "Python!\n",
      "Hello Grasshopper!\n"
     ]
    }
   ],
   "source": [
    "print (\"Hello Python!\"[6:])\n",
    "print (\"Hello Python!\".replace(\"Python\",\"Grasshopper\"))"
   ]
  },
  {
   "cell_type": "code",
   "execution_count": 16,
   "id": "aea0fede-6bea-4e03-b624-8b6ef7be260b",
   "metadata": {},
   "outputs": [
    {
     "name": "stdout",
     "output_type": "stream",
     "text": [
      "[' ', 'H', 'P', 'e', 'h', 'l', 'l', 'n', 'o', 'o', 't', 'y', '！']\n",
      "6\n"
     ]
    }
   ],
   "source": [
    "hello_lst=list(\"Hello Python！\")\n",
    "hello_lst.sort()\n",
    "print (hello_lst)\n",
    "print (\"Hello Python!\".find(\"Py\"))\n"
   ]
  },
  {
   "cell_type": "markdown",
   "id": "e7b32274-ed75-4976-a812-2fbcd63b115b",
   "metadata": {},
   "source": [
    "*字符串格式化 操作符% s转换说明符"
   ]
  },
  {
   "cell_type": "code",
   "execution_count": 1,
   "id": "720582b0-b550-4d0c-9a4f-90537c18fb82",
   "metadata": {},
   "outputs": [
    {
     "name": "stdout",
     "output_type": "stream",
     "text": [
      "Hellow,Python and Grasshopper!\n"
     ]
    }
   ],
   "source": [
    "format_str=\"Hellow,%s and %s!\"\n",
    "values=(\"Python\",\"Grasshopper\")\n",
    "new_str=format_str%values\n",
    "print(new_str)"
   ]
  },
  {
   "cell_type": "code",
   "execution_count": 3,
   "id": "1a86b190-78e6-462a-8bfe-4c5aa2d6ad2e",
   "metadata": {},
   "outputs": [
    {
     "name": "stdout",
     "output_type": "stream",
     "text": [
      "Pi with three decimals:3.142,and enter a value with percent sign:3.14 %\n"
     ]
    }
   ],
   "source": [
    "format_str2=\"Pi with three decimals:%.3f,and enter a value with percent sign:%.2f %%\" #如果字符串里包含实际的%，则通过%%即两个百分号进行转义\n",
    "from math import pi\n",
    "new_str2=format_str2%(pi,3.1415926)\n",
    "print(new_str2)"
   ]
  },
  {
   "cell_type": "markdown",
   "id": "208170c2-616d-40ab-bd29-e1f322aa4ce9",
   "metadata": {
    "tags": []
   },
   "source": [
    "转换类型\t     含义\n",
    "d,i\t       带符号的十进制整数\n",
    "o\t       不带符号的八进制\n",
    "u\t       不带符号的十进制\n",
    "x\t       不带符号的十六进制（小写）\n",
    "X\t       不带符号的十六进制（大写）\n",
    "e\t       科学计数法表示的浮点数（小写）\n",
    "E\t       科学计数法表示的浮点数（大写）\n",
    "f,F\t       十进制浮点数\n",
    "g\t       如果指数大于-4或者小于精度值则和ｅ相同，其它情况            与ｆ相同\n",
    "G\t       如果指数大于-4或者小于精度值则和E相同，其它情况            与F相同\n",
    "C\t       单字符（接受整数或者单字符字符串）\n",
    "r\t       字符串（使用repr转换任意Python对象)\n",
    "s\t       字符串（使用str转换任意Python对象)"
   ]
  },
  {
   "cell_type": "code",
   "execution_count": 17,
   "id": "9093c8c7-1de9-4d67-a08e-9d195bc24eab",
   "metadata": {},
   "outputs": [
    {
     "name": "stdout",
     "output_type": "stream",
     "text": [
      "  3.141593,      3.14,3.14,grass,grass,17,11,3.141593\n"
     ]
    }
   ],
   "source": [
    "format_str3=\"%10f,%10.2f,%.2f,%.5s,%.*s,%d,%x,%f\"\n",
    "new_str3=format_str3%(pi,pi,pi,\"grasshopper\",5,\"grasshopper\",17,17,pi)\n",
    "print(new_str3)"
   ]
  },
  {
   "cell_type": "code",
   "execution_count": 8,
   "id": "3f25e6ad-b350-4c62-ad9c-6fd5061e42ca",
   "metadata": {},
   "outputs": [
    {
     "data": {
      "text/plain": [
       "'123456789000.80'"
      ]
     },
     "execution_count": 8,
     "metadata": {},
     "output_type": "execute_result"
    }
   ],
   "source": [
    "x=\"%10.2f\"\n",
    "y=x%(123456789000.7986)\n",
    "y"
   ]
  },
  {
   "cell_type": "code",
   "execution_count": 15,
   "id": "3be630c0-c36f-4bdd-ba34-346c3fe8e2e2",
   "metadata": {},
   "outputs": [
    {
     "data": {
      "text/plain": [
       "'123456789000.798676'"
      ]
     },
     "execution_count": 15,
     "metadata": {},
     "output_type": "execute_result"
    }
   ],
   "source": [
    "x=\"%1f\"\n",
    "y=x%(123456789000.7986779)\n",
    "y"
   ]
  },
  {
   "cell_type": "markdown",
   "id": "2ec09a49-98f0-4289-811e-6fc4e898ac73",
   "metadata": {
    "tags": []
   },
   "source": [
    "Template()函数-模板字符串+$+st.substitute()"
   ]
  },
  {
   "cell_type": "code",
   "execution_count": 3,
   "id": "d6e754b7-a247-43e1-bb77-eddb8f59dcde",
   "metadata": {},
   "outputs": [
    {
     "name": "stdout",
     "output_type": "stream",
     "text": [
      "arch,win,arch!\n",
      "----------------------------------------\n",
      "architecture is amazing!\n"
     ]
    }
   ],
   "source": [
    "from string import Template\n",
    "tem_1=Template(\"$x,win,$x!\")\n",
    "s_1=tem_1.substitute(x=\"arch\")\n",
    "print(s_1)\n",
    "\n",
    "print('-'*40)\n",
    "tem_2=Template(\"${x}itecture is amazing!\")\n",
    "s_2=tem_2.substitute(x=\"arch\")\n",
    "print(s_2)"
   ]
  },
  {
   "cell_type": "code",
   "execution_count": 6,
   "id": "dcde03a6-c0c3-4b6a-bc36-240fae398515",
   "metadata": {},
   "outputs": [
    {
     "name": "stdout",
     "output_type": "stream",
     "text": [
      "{'x': 'su', 'y': 'rhino'}\n",
      "su and rhino are both amazing!\n"
     ]
    }
   ],
   "source": [
    "tem_3=Template(\"$x and $y are both amazing!\") #匹配字符串的结束标志 \n",
    "substitute_dict=dict([('x','su'),('y','rhino')])\n",
    "print(substitute_dict)\n",
    "s_3=tem_3.substitute(substitute_dict)\n",
    "print(s_3)"
   ]
  },
  {
   "cell_type": "code",
   "execution_count": 13,
   "id": "719d24d5-a7a1-40e0-b35c-0ecca2020435",
   "metadata": {},
   "outputs": [
    {
     "name": "stdout",
     "output_type": "stream",
     "text": [
      "['Python']\n",
      "----------------------------------------\n",
      "[]\n"
     ]
    }
   ],
   "source": [
    "x='Python'\n",
    "text='Hellow Python!'\n",
    "print (re.findall (x,text))\n",
    "\n",
    "print('-'*40)\n",
    "y='python'\n",
    "print(re.findall(y,text))"
   ]
  },
  {
   "cell_type": "code",
   "execution_count": 17,
   "id": "654a7e68-f056-4863-8cc7-a0f3883eceb0",
   "metadata": {},
   "outputs": [
    {
     "name": "stdout",
     "output_type": "stream",
     "text": [
      "['Python']\n",
      "['gython']\n",
      "['Python']\n"
     ]
    }
   ],
   "source": [
    "#(.)点号 匹配任何字符串，除换行符外\n",
    "print (re.findall('.ython','Hello Python!'))\n",
    "print (re.findall('.ython','Hello gython!'))\n",
    "print (re.findall ('.ython','Hello gPython!'))"
   ]
  },
  {
   "cell_type": "code",
   "execution_count": 20,
   "id": "19901e65-8884-48e8-ad00-d7e74b1911b9",
   "metadata": {},
   "outputs": [
    {
     "name": "stdout",
     "output_type": "stream",
     "text": [
      "['cadesign.cn,www.cadesign.cn']\n",
      "['ww.cadesign.cn']\n",
      "['www.cadesign.cn']\n"
     ]
    }
   ],
   "source": [
    "# + ？ {m,n}与r’string’\n",
    "print(re.findall(r'w?cadesign\\.cn,w+\\.cadesign\\.cn','cadesign.cn,www.cadesign.cn'))\n",
    "print(re.findall(r'w{2}\\.cadesign\\.cn','www.cadesign.cn'))\n",
    "print(re.findall(r'w{1,3}\\.cadesign\\.cn','www.cadesign.cn'))"
   ]
  },
  {
   "cell_type": "code",
   "execution_count": 25,
   "id": "2941ff57-b913-469d-a1fd-9c509d2e1839",
   "metadata": {},
   "outputs": [
    {
     "name": "stdout",
     "output_type": "stream",
     "text": [
      "['Python!']\n",
      "['Pthon!']\n",
      "['ython!']\n",
      "['thon!']\n"
     ]
    }
   ],
   "source": [
    "#[] 匹配一组字符 ，特殊字符eg:'*'在字符集中是无效的*匹配尽可能多的字符\n",
    "print(re.findall('[Py]*thon!','Hello Python!'))\n",
    "print(re.findall('[Py]*thon!','Hello Pthon!'))\n",
    "print(re.findall('[Py]*thon!','Hello ython!'))\n",
    "print(re.findall('[Py]*thon!','Hello thon!'))"
   ]
  },
  {
   "cell_type": "code",
   "execution_count": 26,
   "id": "76eef85c-e0bb-44b2-9c3b-3b2b3766309c",
   "metadata": {},
   "outputs": [
    {
     "name": "stdout",
     "output_type": "stream",
     "text": [
      "['python']\n",
      "['grasshopper']\n",
      "['grasshopper', 'python']\n"
     ]
    }
   ],
   "source": [
    "#(|)管道符号 匹配A或B\n",
    "print(re.findall('python|grasshopper','python'))\n",
    "print(re.findall('python|grasshopper','grasshopper'))\n",
    "print(re.findall('python|grasshopper','grasshopper and python'))"
   ]
  },
  {
   "cell_type": "code",
   "execution_count": 36,
   "id": "be518854-6848-4159-bdc9-60a064fb1132",
   "metadata": {},
   "outputs": [
    {
     "name": "stdout",
     "output_type": "stream",
     "text": [
      "['2', '2']\n",
      "['n', 'u', 'm', 'b', 'e', 'r', '=']\n",
      "['n', 'u', 'm', 'b', 'e', 'r', '=']\n"
     ]
    }
   ],
   "source": [
    "#\\d匹配任何十进制数  \\D匹配任何非空数字字符\n",
    "print(re.findall('\\d','number=22'))\n",
    "print(re.findall('\\D','number=10'))\n",
    "print(re.findall('[^0-9]','number=1'))"
   ]
  },
  {
   "cell_type": "code",
   "execution_count": 47,
   "id": "116f9ffe-7c71-4b15-8b79-f61ce6ec017a",
   "metadata": {},
   "outputs": [
    {
     "name": "stdout",
     "output_type": "stream",
     "text": [
      "['y', 't']\n",
      "<re.Match object; span=(1, 3), match='yt'>\n",
      "我找到了\n"
     ]
    }
   ],
   "source": [
    "#re模块的方法\n",
    "print(re.findall('[q-y]','python-3.0'))#findall 匹配范围内出现的字符\n",
    "print(re.search('[q-y]+','python'))#seacher 匹配的字符所在的位置\n",
    "if re.search('[a-z]+','python'):\n",
    "    print('我找到了')"
   ]
  },
  {
   "cell_type": "code",
   "execution_count": 54,
   "id": "d9c2d786-5009-46ff-a3ca-a2f8ae100f53",
   "metadata": {},
   "outputs": [
    {
     "name": "stdout",
     "output_type": "stream",
     "text": [
      "['Hello', '', '', '', '', '', 'Python!']\n",
      "['Hello', '', '', '', '', '', 'Python!']\n",
      "Hello Grasshopper!\n",
      "Hello Grasshopper!\n",
      "['Python']\n",
      "我找到了\n"
     ]
    }
   ],
   "source": [
    "print(re.split(',','Hello,,,,,,Python!'))\n",
    "print( 'Hello,,,,,,Python!'.split(','))\n",
    "\n",
    "print(re.sub('Python','Grasshopper','Hello Python!'))#re.sub(被替换，替换，替换出现的字符串)\n",
    "print( 'Hello Python!'.replace('Python','Grasshopper'))\n",
    "x=re.compile('Python')#copile 编译\n",
    "print(x.findall('Hello,,,,,,Python!'))\n",
    "if re.match('p','python'):\n",
    "    print(\"我找到了\")"
   ]
  },
  {
   "cell_type": "code",
   "execution_count": 52,
   "id": "b41f8aaf-c2f9-40e5-bf74-5846d17b9fd6",
   "metadata": {},
   "outputs": [
    {
     "name": "stdout",
     "output_type": "stream",
     "text": [
      "0\n",
      "2\n",
      "-1\n",
      "True\n"
     ]
    }
   ],
   "source": [
    "print('python'.find('python'))\n",
    "print('python'.find('thon'))\n",
    "print('python'.find('0'))#未有相匹配的字符输出 -1\n",
    "print('p' in 'python')"
   ]
  },
  {
   "cell_type": "code",
   "execution_count": 59,
   "id": "aeb3484d-2508-45e7-9fac-b9352990e027",
   "metadata": {},
   "outputs": [
    {
     "name": "stdout",
     "output_type": "stream",
     "text": [
      "python\n",
      "4\n",
      "10\n",
      "(4, 10)\n",
      "www.python.org\n",
      "org\n"
     ]
    }
   ],
   "source": [
    "match_1=re.match(r'www\\.(.*)\\..{3}','www.python.org')\n",
    "print(match_1.group(1))\n",
    "print(match_1.start(1))\n",
    "print(match_1.end(1))\n",
    "print(match_1.span(1))\n",
    "\n",
    "match_2=re.match(r'www\\.(.*)\\.(.{3})','www.python.org')\n",
    "print(match_2.group(0))\n",
    "print(match_2.group(2))"
   ]
  },
  {
   "cell_type": "markdown",
   "id": "2c4bc223-1f2c-42d4-97f0-db93a1f2f75d",
   "metadata": {},
   "source": [
    "#1、match\n",
    "re.match(pattern, string[, flags])  \n",
    "\n",
    "从首字母开始开始匹配，string如果包含pattern子串，则匹配成功，返回Match对象，失败则返回None，若要完全匹配，pattern要以$结尾。\n",
    "\n",
    "2、search\n",
    "re.search(pattern, string[, flags])  \n",
    "若string中包含pattern子串，则返回Match对象，否则返回None，注意，如果string中存在多个pattern子串，只返回第一个。\n",
    "\n",
    "3、findall\n",
    "re.findall(pattern, string[, flags])  \n",
    "返回string中所有与pattern相匹配的全部字串，返回形式为数组。\n",
    "\n",
    "4、finditer\n",
    "re.finditer(pattern, string[, flags])  \n",
    "返回string中所有与pattern相匹配的全部字串，返回形式为迭代器。"
   ]
  },
  {
   "cell_type": "markdown",
   "id": "a07df168-ce86-4454-bb1f-03100c91e0f4",
   "metadata": {},
   "source": [
    "for循环-------------------------------------------------"
   ]
  },
  {
   "cell_type": "code",
   "execution_count": 61,
   "id": "d9c2ca27-3c1a-41e9-9830-4764c1e41c44",
   "metadata": {},
   "outputs": [
    {
     "name": "stdout",
     "output_type": "stream",
     "text": [
      "0\n",
      "10\n",
      "20\n",
      "30\n",
      "40\n",
      "50\n",
      "60\n",
      "70\n",
      "80\n",
      "90\n"
     ]
    }
   ],
   "source": [
    "lst_1=list(range(0,100,10))\n",
    "for n in lst_1:\n",
    "    print(n)\n",
    "    "
   ]
  },
  {
   "cell_type": "code",
   "execution_count": 62,
   "id": "a4e7e757-bf73-499b-a6f3-03f8992f29ad",
   "metadata": {},
   "outputs": [
    {
     "name": "stdout",
     "output_type": "stream",
     "text": [
      "idx=0,val=0\n",
      "idx=1,val=10\n",
      "idx=2,val=20\n",
      "idx=3,val=30\n",
      "idx=4,val=40\n",
      "idx=5,val=50\n",
      "idx=6,val=60\n",
      "idx=7,val=70\n",
      "idx=8,val=80\n",
      "idx=9,val=90\n"
     ]
    }
   ],
   "source": [
    "for n in range(len(lst_1)):\n",
    "    print(\"idx={},val={}\".format(n,lst_1[n]))"
   ]
  },
  {
   "cell_type": "code",
   "execution_count": 70,
   "id": "53cea695-f9df-438b-b71a-86732c6e2149",
   "metadata": {},
   "outputs": [
    {
     "name": "stdout",
     "output_type": "stream",
     "text": [
      "张三\n",
      "李四\n",
      "王五\n",
      "姓名=张三，名次=1\n",
      "姓名=李四，名次=2\n",
      "姓名=王五，名次=3\n"
     ]
    }
   ],
   "source": [
    "排名=dict(张三=1,李四=2,王五=3)\n",
    "for i in dic_4:\n",
    "    print(i)\n",
    "for i,t in 排名.items():\n",
    "    print(\"姓名={}，名次={}\".format(i,t))"
   ]
  },
  {
   "cell_type": "markdown",
   "id": "450e7d4d-0b8a-4887-9bad-2afd753872f8",
   "metadata": {},
   "source": [
    "while循环-----------------------------------------------"
   ]
  },
  {
   "cell_type": "markdown",
   "id": "efc03b31-7119-4bc2-be5b-7ded1042141a",
   "metadata": {},
   "source": [
    " while 条件                      条件的值\n",
    "    执行语句                        |\n",
    "    条件变更语句   |—重新判断————>判断条件\n",
    "                  |                |条件成立\n",
    "                  |————————————执行修改条件\n",
    "                       "
   ]
  },
  {
   "cell_type": "code",
   "execution_count": 77,
   "id": "41b7b92c-b07f-49a0-ba99-91d1f2665f3f",
   "metadata": {},
   "outputs": [
    {
     "name": "stdout",
     "output_type": "stream",
     "text": [
      "x=1\n",
      "x=11\n",
      "x=21\n",
      "x=31\n",
      "x=41\n",
      "x=51\n",
      "x=61\n",
      "x=71\n",
      "x=81\n",
      "x=91\n"
     ]
    }
   ],
   "source": [
    "x=1\n",
    "while x<=100:\n",
    "    print(\"x={}\".format(x))\n",
    "    x+=10 #增量赋值; x*=2    "
   ]
  },
  {
   "cell_type": "code",
   "execution_count": 80,
   "id": "57eaf1b0-f866-4a6a-98e0-272fe65301c5",
   "metadata": {},
   "outputs": [
    {
     "name": "stdout",
     "output_type": "stream",
     "text": [
      "我要涨200元\n",
      "我现在的工资是3200\n",
      "我要涨200元\n",
      "我现在的工资是3400\n",
      "我要涨200元\n",
      "我现在的工资是3600\n",
      "我要涨200元\n",
      "我现在的工资是3800\n",
      "我要涨200元\n",
      "我现在的工资是4000\n"
     ]
    }
   ],
   "source": [
    "salary=3000\n",
    "while salary<4000:\n",
    "    print('我要涨200元')\n",
    "    salary=salary+200\n",
    "    print('我现在的工资是'+str(salary))"
   ]
  },
  {
   "cell_type": "code",
   "execution_count": 84,
   "id": "75111f45-63e1-4cac-a072-db408e974569",
   "metadata": {},
   "outputs": [
    {
     "name": "stdout",
     "output_type": "stream",
     "text": [
      "我要涨200元\n",
      "我现在的工资是3200\n",
      "我要涨200元\n",
      "我现在的工资是3400\n",
      "我要涨200元\n"
     ]
    }
   ],
   "source": [
    "salary=3000\n",
    "while salary<4000:\n",
    "    print('我要涨200元')\n",
    "    salary=salary+200\n",
    "    if salary>=3600:break\n",
    "    print('我现在的工资是'+str(salary))"
   ]
  },
  {
   "cell_type": "code",
   "execution_count": 1,
   "id": "30650fea-5f33-44fa-abbd-62617a74196a",
   "metadata": {},
   "outputs": [
    {
     "ename": "FileNotFoundError",
     "evalue": "[Errno 2] No such file or directory: './data/elevation.txt'",
     "output_type": "error",
     "traceback": [
      "\u001b[1;31m---------------------------------------------------------------------------\u001b[0m",
      "\u001b[1;31mFileNotFoundError\u001b[0m                         Traceback (most recent call last)",
      "\u001b[1;32m<ipython-input-1-af066ed9c266>\u001b[0m in \u001b[0;36m<module>\u001b[1;34m\u001b[0m\n\u001b[0;32m      1\u001b[0m \u001b[0mtopography_fp\u001b[0m\u001b[1;33m=\u001b[0m\u001b[1;34m'./data/elevation.txt'\u001b[0m \u001b[1;31m#在处理GIS时，更多的是使用GeoPandas等处理地理信息的库;另，大数据的存储读取通常用Numpy,(Geo)Pandas提供的方法，以及HDF5(binary data format)。\u001b[0m\u001b[1;33m\u001b[0m\u001b[1;33m\u001b[0m\u001b[0m\n\u001b[1;32m----> 2\u001b[1;33m \u001b[0mf\u001b[0m\u001b[1;33m=\u001b[0m\u001b[0mopen\u001b[0m\u001b[1;33m(\u001b[0m\u001b[0mtopography_fp\u001b[0m\u001b[1;33m,\u001b[0m\u001b[1;34m'r'\u001b[0m\u001b[1;33m)\u001b[0m\u001b[1;33m\u001b[0m\u001b[1;33m\u001b[0m\u001b[0m\n\u001b[0m\u001b[0;32m      3\u001b[0m \u001b[0melevation_dat\u001b[0m\u001b[1;33m=\u001b[0m\u001b[1;33m[\u001b[0m\u001b[1;33m]\u001b[0m\u001b[1;33m\u001b[0m\u001b[1;33m\u001b[0m\u001b[0m\n\u001b[0;32m      4\u001b[0m \u001b[1;32mwhile\u001b[0m \u001b[1;32mTrue\u001b[0m\u001b[1;33m:\u001b[0m\u001b[1;33m\u001b[0m\u001b[1;33m\u001b[0m\u001b[0m\n\u001b[0;32m      5\u001b[0m     \u001b[0mline\u001b[0m\u001b[1;33m=\u001b[0m\u001b[0mf\u001b[0m\u001b[1;33m.\u001b[0m\u001b[0mreadline\u001b[0m\u001b[1;33m(\u001b[0m\u001b[1;33m)\u001b[0m\u001b[1;33m\u001b[0m\u001b[1;33m\u001b[0m\u001b[0m\n",
      "\u001b[1;31mFileNotFoundError\u001b[0m: [Errno 2] No such file or directory: './data/elevation.txt'"
     ]
    }
   ],
   "source": [
    "topography_fp='./data/elevation.txt' #在处理GIS时，更多的是使用GeoPandas等处理地理信息的库;另，大数据的存储读取通常用Numpy,(Geo)Pandas提供的方法，以及HDF5(binary data format)。\n",
    "f=open(topography_fp,'r')\n",
    "elevation_dat=[]\n",
    "while True:\n",
    "    line=f.readline()\n",
    "    elevation_dat.append(line)\n",
    "    if not line:break\n",
    "f.close()\n",
    "print(\"elevation_dat[:10]={}\".format(elevation_dat[:10]))\n"
   ]
  },
  {
   "cell_type": "code",
   "execution_count": 86,
   "id": "8f745b82-58e5-4b6e-87ee-545ecd814433",
   "metadata": {},
   "outputs": [
    {
     "name": "stdout",
     "output_type": "stream",
     "text": [
      "9223372036854775807\n",
      "i=0\n",
      "i=1\n",
      "i=2\n",
      "i=3\n",
      "i=4\n",
      "i=5\n",
      "i=6\n",
      "i=7\n",
      "i=8\n",
      "i=9\n",
      "i=10\n"
     ]
    }
   ],
   "source": [
    "import sys\n",
    "print(sys.maxsize)\n",
    "for i in range(sys.maxsize):\n",
    "    print(\"i={}\".format(i))  #?\n",
    "    i+=10\n",
    "    if i>=20:break"
   ]
  },
  {
   "cell_type": "code",
   "execution_count": 2,
   "id": "39642a17-9897-4761-b859-06f23b1237e6",
   "metadata": {},
   "outputs": [
    {
     "ename": "FileNotFoundError",
     "evalue": "[Errno 2] No such file or directory: './data/elevation.txt'",
     "output_type": "error",
     "traceback": [
      "\u001b[1;31m---------------------------------------------------------------------------\u001b[0m",
      "\u001b[1;31mFileNotFoundError\u001b[0m                         Traceback (most recent call last)",
      "\u001b[1;32m<ipython-input-2-8ebfaf1f6d25>\u001b[0m in \u001b[0;36m<module>\u001b[1;34m\u001b[0m\n\u001b[0;32m      1\u001b[0m \u001b[1;32mimport\u001b[0m \u001b[0mpandas\u001b[0m \u001b[1;32mas\u001b[0m \u001b[0mpd\u001b[0m\u001b[1;33m\u001b[0m\u001b[1;33m\u001b[0m\u001b[0m\n\u001b[1;32m----> 2\u001b[1;33m \u001b[0melevation_df\u001b[0m\u001b[1;33m=\u001b[0m\u001b[0mpd\u001b[0m\u001b[1;33m.\u001b[0m\u001b[0mread_csv\u001b[0m\u001b[1;33m(\u001b[0m\u001b[0mtopography_fp\u001b[0m\u001b[1;33m,\u001b[0m \u001b[0mdelimiter\u001b[0m \u001b[1;33m=\u001b[0m \u001b[1;34m\",\"\u001b[0m\u001b[1;33m,\u001b[0m\u001b[0mheader\u001b[0m\u001b[1;33m=\u001b[0m\u001b[1;32mNone\u001b[0m\u001b[1;33m)\u001b[0m\u001b[1;33m\u001b[0m\u001b[1;33m\u001b[0m\u001b[0m\n\u001b[0m\u001b[0;32m      3\u001b[0m \u001b[0mprint\u001b[0m\u001b[1;33m(\u001b[0m\u001b[0melevation_df\u001b[0m\u001b[1;33m)\u001b[0m\u001b[1;33m\u001b[0m\u001b[1;33m\u001b[0m\u001b[0m\n",
      "\u001b[1;32m~\\anaconda3\\lib\\site-packages\\pandas\\io\\parsers.py\u001b[0m in \u001b[0;36mread_csv\u001b[1;34m(filepath_or_buffer, sep, delimiter, header, names, index_col, usecols, squeeze, prefix, mangle_dupe_cols, dtype, engine, converters, true_values, false_values, skipinitialspace, skiprows, skipfooter, nrows, na_values, keep_default_na, na_filter, verbose, skip_blank_lines, parse_dates, infer_datetime_format, keep_date_col, date_parser, dayfirst, cache_dates, iterator, chunksize, compression, thousands, decimal, lineterminator, quotechar, quoting, doublequote, escapechar, comment, encoding, dialect, error_bad_lines, warn_bad_lines, delim_whitespace, low_memory, memory_map, float_precision, storage_options)\u001b[0m\n\u001b[0;32m    608\u001b[0m     \u001b[0mkwds\u001b[0m\u001b[1;33m.\u001b[0m\u001b[0mupdate\u001b[0m\u001b[1;33m(\u001b[0m\u001b[0mkwds_defaults\u001b[0m\u001b[1;33m)\u001b[0m\u001b[1;33m\u001b[0m\u001b[1;33m\u001b[0m\u001b[0m\n\u001b[0;32m    609\u001b[0m \u001b[1;33m\u001b[0m\u001b[0m\n\u001b[1;32m--> 610\u001b[1;33m     \u001b[1;32mreturn\u001b[0m \u001b[0m_read\u001b[0m\u001b[1;33m(\u001b[0m\u001b[0mfilepath_or_buffer\u001b[0m\u001b[1;33m,\u001b[0m \u001b[0mkwds\u001b[0m\u001b[1;33m)\u001b[0m\u001b[1;33m\u001b[0m\u001b[1;33m\u001b[0m\u001b[0m\n\u001b[0m\u001b[0;32m    611\u001b[0m \u001b[1;33m\u001b[0m\u001b[0m\n\u001b[0;32m    612\u001b[0m \u001b[1;33m\u001b[0m\u001b[0m\n",
      "\u001b[1;32m~\\anaconda3\\lib\\site-packages\\pandas\\io\\parsers.py\u001b[0m in \u001b[0;36m_read\u001b[1;34m(filepath_or_buffer, kwds)\u001b[0m\n\u001b[0;32m    460\u001b[0m \u001b[1;33m\u001b[0m\u001b[0m\n\u001b[0;32m    461\u001b[0m     \u001b[1;31m# Create the parser.\u001b[0m\u001b[1;33m\u001b[0m\u001b[1;33m\u001b[0m\u001b[1;33m\u001b[0m\u001b[0m\n\u001b[1;32m--> 462\u001b[1;33m     \u001b[0mparser\u001b[0m \u001b[1;33m=\u001b[0m \u001b[0mTextFileReader\u001b[0m\u001b[1;33m(\u001b[0m\u001b[0mfilepath_or_buffer\u001b[0m\u001b[1;33m,\u001b[0m \u001b[1;33m**\u001b[0m\u001b[0mkwds\u001b[0m\u001b[1;33m)\u001b[0m\u001b[1;33m\u001b[0m\u001b[1;33m\u001b[0m\u001b[0m\n\u001b[0m\u001b[0;32m    463\u001b[0m \u001b[1;33m\u001b[0m\u001b[0m\n\u001b[0;32m    464\u001b[0m     \u001b[1;32mif\u001b[0m \u001b[0mchunksize\u001b[0m \u001b[1;32mor\u001b[0m \u001b[0miterator\u001b[0m\u001b[1;33m:\u001b[0m\u001b[1;33m\u001b[0m\u001b[1;33m\u001b[0m\u001b[0m\n",
      "\u001b[1;32m~\\anaconda3\\lib\\site-packages\\pandas\\io\\parsers.py\u001b[0m in \u001b[0;36m__init__\u001b[1;34m(self, f, engine, **kwds)\u001b[0m\n\u001b[0;32m    817\u001b[0m             \u001b[0mself\u001b[0m\u001b[1;33m.\u001b[0m\u001b[0moptions\u001b[0m\u001b[1;33m[\u001b[0m\u001b[1;34m\"has_index_names\"\u001b[0m\u001b[1;33m]\u001b[0m \u001b[1;33m=\u001b[0m \u001b[0mkwds\u001b[0m\u001b[1;33m[\u001b[0m\u001b[1;34m\"has_index_names\"\u001b[0m\u001b[1;33m]\u001b[0m\u001b[1;33m\u001b[0m\u001b[1;33m\u001b[0m\u001b[0m\n\u001b[0;32m    818\u001b[0m \u001b[1;33m\u001b[0m\u001b[0m\n\u001b[1;32m--> 819\u001b[1;33m         \u001b[0mself\u001b[0m\u001b[1;33m.\u001b[0m\u001b[0m_engine\u001b[0m \u001b[1;33m=\u001b[0m \u001b[0mself\u001b[0m\u001b[1;33m.\u001b[0m\u001b[0m_make_engine\u001b[0m\u001b[1;33m(\u001b[0m\u001b[0mself\u001b[0m\u001b[1;33m.\u001b[0m\u001b[0mengine\u001b[0m\u001b[1;33m)\u001b[0m\u001b[1;33m\u001b[0m\u001b[1;33m\u001b[0m\u001b[0m\n\u001b[0m\u001b[0;32m    820\u001b[0m \u001b[1;33m\u001b[0m\u001b[0m\n\u001b[0;32m    821\u001b[0m     \u001b[1;32mdef\u001b[0m \u001b[0mclose\u001b[0m\u001b[1;33m(\u001b[0m\u001b[0mself\u001b[0m\u001b[1;33m)\u001b[0m\u001b[1;33m:\u001b[0m\u001b[1;33m\u001b[0m\u001b[1;33m\u001b[0m\u001b[0m\n",
      "\u001b[1;32m~\\anaconda3\\lib\\site-packages\\pandas\\io\\parsers.py\u001b[0m in \u001b[0;36m_make_engine\u001b[1;34m(self, engine)\u001b[0m\n\u001b[0;32m   1048\u001b[0m             )\n\u001b[0;32m   1049\u001b[0m         \u001b[1;31m# error: Too many arguments for \"ParserBase\"\u001b[0m\u001b[1;33m\u001b[0m\u001b[1;33m\u001b[0m\u001b[1;33m\u001b[0m\u001b[0m\n\u001b[1;32m-> 1050\u001b[1;33m         \u001b[1;32mreturn\u001b[0m \u001b[0mmapping\u001b[0m\u001b[1;33m[\u001b[0m\u001b[0mengine\u001b[0m\u001b[1;33m]\u001b[0m\u001b[1;33m(\u001b[0m\u001b[0mself\u001b[0m\u001b[1;33m.\u001b[0m\u001b[0mf\u001b[0m\u001b[1;33m,\u001b[0m \u001b[1;33m**\u001b[0m\u001b[0mself\u001b[0m\u001b[1;33m.\u001b[0m\u001b[0moptions\u001b[0m\u001b[1;33m)\u001b[0m  \u001b[1;31m# type: ignore[call-arg]\u001b[0m\u001b[1;33m\u001b[0m\u001b[1;33m\u001b[0m\u001b[0m\n\u001b[0m\u001b[0;32m   1051\u001b[0m \u001b[1;33m\u001b[0m\u001b[0m\n\u001b[0;32m   1052\u001b[0m     \u001b[1;32mdef\u001b[0m \u001b[0m_failover_to_python\u001b[0m\u001b[1;33m(\u001b[0m\u001b[0mself\u001b[0m\u001b[1;33m)\u001b[0m\u001b[1;33m:\u001b[0m\u001b[1;33m\u001b[0m\u001b[1;33m\u001b[0m\u001b[0m\n",
      "\u001b[1;32m~\\anaconda3\\lib\\site-packages\\pandas\\io\\parsers.py\u001b[0m in \u001b[0;36m__init__\u001b[1;34m(self, src, **kwds)\u001b[0m\n\u001b[0;32m   1865\u001b[0m \u001b[1;33m\u001b[0m\u001b[0m\n\u001b[0;32m   1866\u001b[0m         \u001b[1;31m# open handles\u001b[0m\u001b[1;33m\u001b[0m\u001b[1;33m\u001b[0m\u001b[1;33m\u001b[0m\u001b[0m\n\u001b[1;32m-> 1867\u001b[1;33m         \u001b[0mself\u001b[0m\u001b[1;33m.\u001b[0m\u001b[0m_open_handles\u001b[0m\u001b[1;33m(\u001b[0m\u001b[0msrc\u001b[0m\u001b[1;33m,\u001b[0m \u001b[0mkwds\u001b[0m\u001b[1;33m)\u001b[0m\u001b[1;33m\u001b[0m\u001b[1;33m\u001b[0m\u001b[0m\n\u001b[0m\u001b[0;32m   1868\u001b[0m         \u001b[1;32massert\u001b[0m \u001b[0mself\u001b[0m\u001b[1;33m.\u001b[0m\u001b[0mhandles\u001b[0m \u001b[1;32mis\u001b[0m \u001b[1;32mnot\u001b[0m \u001b[1;32mNone\u001b[0m\u001b[1;33m\u001b[0m\u001b[1;33m\u001b[0m\u001b[0m\n\u001b[0;32m   1869\u001b[0m         \u001b[1;32mfor\u001b[0m \u001b[0mkey\u001b[0m \u001b[1;32min\u001b[0m \u001b[1;33m(\u001b[0m\u001b[1;34m\"storage_options\"\u001b[0m\u001b[1;33m,\u001b[0m \u001b[1;34m\"encoding\"\u001b[0m\u001b[1;33m,\u001b[0m \u001b[1;34m\"memory_map\"\u001b[0m\u001b[1;33m,\u001b[0m \u001b[1;34m\"compression\"\u001b[0m\u001b[1;33m)\u001b[0m\u001b[1;33m:\u001b[0m\u001b[1;33m\u001b[0m\u001b[1;33m\u001b[0m\u001b[0m\n",
      "\u001b[1;32m~\\anaconda3\\lib\\site-packages\\pandas\\io\\parsers.py\u001b[0m in \u001b[0;36m_open_handles\u001b[1;34m(self, src, kwds)\u001b[0m\n\u001b[0;32m   1360\u001b[0m         \u001b[0mLet\u001b[0m \u001b[0mthe\u001b[0m \u001b[0mreaders\u001b[0m \u001b[0mopen\u001b[0m \u001b[0mIOHanldes\u001b[0m \u001b[0mafter\u001b[0m \u001b[0mthey\u001b[0m \u001b[0mare\u001b[0m \u001b[0mdone\u001b[0m \u001b[1;32mwith\u001b[0m \u001b[0mtheir\u001b[0m \u001b[0mpotential\u001b[0m \u001b[0mraises\u001b[0m\u001b[1;33m.\u001b[0m\u001b[1;33m\u001b[0m\u001b[1;33m\u001b[0m\u001b[0m\n\u001b[0;32m   1361\u001b[0m         \"\"\"\n\u001b[1;32m-> 1362\u001b[1;33m         self.handles = get_handle(\n\u001b[0m\u001b[0;32m   1363\u001b[0m             \u001b[0msrc\u001b[0m\u001b[1;33m,\u001b[0m\u001b[1;33m\u001b[0m\u001b[1;33m\u001b[0m\u001b[0m\n\u001b[0;32m   1364\u001b[0m             \u001b[1;34m\"r\"\u001b[0m\u001b[1;33m,\u001b[0m\u001b[1;33m\u001b[0m\u001b[1;33m\u001b[0m\u001b[0m\n",
      "\u001b[1;32m~\\anaconda3\\lib\\site-packages\\pandas\\io\\common.py\u001b[0m in \u001b[0;36mget_handle\u001b[1;34m(path_or_buf, mode, encoding, compression, memory_map, is_text, errors, storage_options)\u001b[0m\n\u001b[0;32m    640\u001b[0m                 \u001b[0merrors\u001b[0m \u001b[1;33m=\u001b[0m \u001b[1;34m\"replace\"\u001b[0m\u001b[1;33m\u001b[0m\u001b[1;33m\u001b[0m\u001b[0m\n\u001b[0;32m    641\u001b[0m             \u001b[1;31m# Encoding\u001b[0m\u001b[1;33m\u001b[0m\u001b[1;33m\u001b[0m\u001b[1;33m\u001b[0m\u001b[0m\n\u001b[1;32m--> 642\u001b[1;33m             handle = open(\n\u001b[0m\u001b[0;32m    643\u001b[0m                 \u001b[0mhandle\u001b[0m\u001b[1;33m,\u001b[0m\u001b[1;33m\u001b[0m\u001b[1;33m\u001b[0m\u001b[0m\n\u001b[0;32m    644\u001b[0m                 \u001b[0mioargs\u001b[0m\u001b[1;33m.\u001b[0m\u001b[0mmode\u001b[0m\u001b[1;33m,\u001b[0m\u001b[1;33m\u001b[0m\u001b[1;33m\u001b[0m\u001b[0m\n",
      "\u001b[1;31mFileNotFoundError\u001b[0m: [Errno 2] No such file or directory: './data/elevation.txt'"
     ]
    }
   ],
   "source": [
    "import pandas as pd\n",
    "elevation_df=pd.read_csv(topography_fp, delimiter = \",\",header=None) \n",
    "print(elevation_df)"
   ]
  },
  {
   "cell_type": "code",
   "execution_count": 13,
   "id": "ca7eaaf2-4ae6-4221-b750-e51df237f199",
   "metadata": {},
   "outputs": [
    {
     "name": "stdout",
     "output_type": "stream",
     "text": [
      "<zip object at 0x000001EF89421340>\n",
      "----------------------------------------\n",
      "0 p\n",
      "1 q\n",
      "2 m\n",
      "((0, 1, 2), ('p', 'q', 'm'))\n"
     ]
    }
   ],
   "source": [
    "lst_a=[0,1,2]\n",
    "lst_b=['p','q','m']\n",
    "zip_1=zip(lst_a,lst_b)\n",
    "print(zip_1)\n",
    "\n",
    "print('-'*40)\n",
    "zip_1=zip(lst_a,lst_b)#迭代对象临时存储，读取完后为空\n",
    "for a,b in zip_1:\n",
    "    print(a,b)\n",
    "\n",
    "zip_1=zip(lst_a,lst_b)\n",
    "a,b=zip(*zip_1)\n",
    "print((a,b))"
   ]
  },
  {
   "cell_type": "code",
   "execution_count": 16,
   "id": "dd0799da-d941-445a-9941-4eba08f0f606",
   "metadata": {},
   "outputs": [
    {
     "name": "stdout",
     "output_type": "stream",
     "text": [
      "{0: 'p', 1: 'q', 2: 'm'}\n",
      "{0: 'p', 1: 'q', 2: 'm'}\n",
      "----------------------------------------\n",
      "0:0,p\n",
      "1:1,q\n",
      "2:2,m\n"
     ]
    }
   ],
   "source": [
    "lst_c=['p','q','m']\n",
    "dic_4={}\n",
    "for i,n in enumerate(lst_c):\n",
    "    dic_4[i]=n\n",
    "print(dic_4)\n",
    "print(dict((w,v) for w,v in enumerate(lst_c)))\n",
    "print('-'*40)\n",
    "\n",
    "for i,(a,b) in enumerate(zip(lst_a,lst_b)):\n",
    "    print('%d:%s,%s'%(i,a,b))"
   ]
  },
  {
   "cell_type": "code",
   "execution_count": 17,
   "id": "80045eb6-7e52-417a-b731-2c2d0f6f5f1a",
   "metadata": {},
   "outputs": [
    {
     "name": "stdout",
     "output_type": "stream",
     "text": [
      "[64, 324, 784]\n",
      "[(0, 0), (0, 1), (1, 0), (1, 1), (2, 0), (2, 1)]\n",
      "[(0, 0), (1, 1)]\n"
     ]
    }
   ],
   "source": [
    "print([x*x for x in range(3,37,5) if x%2==0])\n",
    "print([(x,y) for x in range(3)for y in range(2)])\n",
    "print([(x,y) for x,y in zip(range(3),range(2))])"
   ]
  },
  {
   "cell_type": "code",
   "execution_count": 21,
   "id": "a582cb07-f9f0-4b2d-b167-68fbd4f35c1e",
   "metadata": {},
   "outputs": [
    {
     "name": "stdout",
     "output_type": "stream",
     "text": [
      "[[1, 4, 7], 2, 3, [60, 67, 74, 81, 88, 95], [[1000, 1120, 1240, 1360, 1480, 1600, 1720, 1840, 1960], 3, 9]]\n"
     ]
    }
   ],
   "source": [
    " #嵌套列表推导式\n",
    "nested_list=[[a for a in range(1,10,3)],2,3,[b for b in range(60,100,7)],[[c for c in range(1000,2000,120)],3,9]]\n",
    "print(nested_list)"
   ]
  },
  {
   "cell_type": "code",
   "execution_count": 23,
   "id": "33fc5e6b-7356-4835-a881-2cb8a37a174b",
   "metadata": {},
   "outputs": [
    {
     "name": "stdout",
     "output_type": "stream",
     "text": [
      "[1, 4, 7, 2, 3, 60, 67, 74, 81, 88, 95, 1000, 1120, 1240, 1360, 1480, 1600, 1720, 1840, 1960, 3, 9]\n"
     ]
    }
   ],
   "source": [
    "flatten_lst=lambda lst: [m for n in lst for m in flatten_lst(n)] if type(lst) is list else [lst] #展平列表常用，可以放置到单独的.py文件中调用.\n",
    "print(flatten_lst(nested_list))"
   ]
  },
  {
   "cell_type": "markdown",
   "id": "ae8f8cb5-f450-4669-83c4-3feb02a7e97b",
   "metadata": {},
   "source": [
    "条件语句------------------------------------------------"
   ]
  },
  {
   "cell_type": "markdown",
   "id": "b6d865b1-bae9-44c4-beef-b1ee1cfd0deb",
   "metadata": {},
   "source": [
    "表达式\t     描述\n",
    "x==y\t   x等于y\n",
    "x<y\t       x小于y\n",
    "x>y\t       x大于y\n",
    "x>=y\t x大于等于y\n",
    "x<=y\t x小于等于y\n",
    "x!=y\t  x不等于y\n",
    "x is y\tx和y是同一个对象\n",
    "x is not y\tx和y是不同的对象\n",
    "x in y\tx是y容器（例如列表）的成员\n",
    "x not in y\tx不是y容器（例如列表）的成员"
   ]
  },
  {
   "cell_type": "code",
   "execution_count": 27,
   "id": "0b776b9d-6378-44e3-82a5-57e374be1e21",
   "metadata": {},
   "outputs": [
    {
     "name": "stdout",
     "output_type": "stream",
     "text": [
      "vip3\n"
     ]
    }
   ],
   "source": [
    "money=300\n",
    "if money>500:\n",
    "    print('vip5')\n",
    "elif money>=400:\n",
    "    print('vip4')\n",
    "elif money>=300:\n",
    "    print('vip3')\n",
    "elif money>=200:\n",
    "    print('vip2')\n",
    "elif money>=100:\n",
    "    print('vip1')\n",
    "else:\n",
    "    print('继续加油')#else匹配就近if的条件"
   ]
  },
  {
   "cell_type": "code",
   "execution_count": 31,
   "id": "77859890-c8e9-4d3c-ac83-eac5861e1476",
   "metadata": {},
   "outputs": [
    {
     "name": "stdout",
     "output_type": "stream",
     "text": [
      "True\n",
      "True\n",
      "True\n",
      "False\n",
      "True\n",
      "2128311771008 2128311771008 2128311768576\n",
      "([3, 6], [3, 6], [3, 6, 9])\n"
     ]
    }
   ],
   "source": [
    "x=y=[3,6,9]\n",
    "z=[3,6,9]\n",
    "print(x==y)\n",
    "print(x is y)\n",
    "print(x==z)\n",
    "print(x is z)\n",
    "print(x is not z)\n",
    "print(id(x), id(y),id(z))\n",
    "\n",
    "del x[2]\n",
    "print((x,y,z))"
   ]
  },
  {
   "cell_type": "code",
   "execution_count": 32,
   "id": "6efaad21-f7fc-4f46-a97c-3fcd4b665c02",
   "metadata": {},
   "outputs": [
    {
     "name": "stdout",
     "output_type": "stream",
     "text": [
      "True\n",
      "False\n",
      "False\n",
      "True\n"
     ]
    }
   ],
   "source": [
    "print(3 in x)\n",
    "print(8 in x)\n",
    "print(3 not in x)\n",
    "print(8 not in x)"
   ]
  },
  {
   "cell_type": "code",
   "execution_count": 33,
   "id": "e07f81a3-5b5e-4fcd-b4be-aec488c4cdab",
   "metadata": {},
   "outputs": [
    {
     "name": "stdout",
     "output_type": "stream",
     "text": [
      "a<c<b kidding!!!\n"
     ]
    }
   ],
   "source": [
    "a,b,c=0,10,15\n",
    "if c>a and c<b:\n",
    "    print('a<c<b')\n",
    "else: print('a<c<b kidding!!!')"
   ]
  },
  {
   "cell_type": "markdown",
   "id": "c77a5733-a1ea-47ec-b018-04998c55ab33",
   "metadata": {},
   "source": [
    "定义函数-----------------------------------------------"
   ]
  },
  {
   "cell_type": "code",
   "execution_count": 39,
   "id": "b6a80cc9-494d-47a5-9005-1d9f6c291987",
   "metadata": {},
   "outputs": [],
   "source": [
    "def func(x,y):\n",
    "    z=x+y\n",
    "    return z"
   ]
  },
  {
   "cell_type": "code",
   "execution_count": 40,
   "id": "00772bcf-e76a-4732-a1ab-3b98f5fd1a96",
   "metadata": {},
   "outputs": [
    {
     "name": "stdout",
     "output_type": "stream",
     "text": [
      "10\n"
     ]
    }
   ],
   "source": [
    "print(func(3,7))"
   ]
  },
  {
   "cell_type": "code",
   "execution_count": 41,
   "id": "9f21c328-a759-4efc-92b9-a37d75048fa9",
   "metadata": {},
   "outputs": [
    {
     "name": "stdout",
     "output_type": "stream",
     "text": [
      "[5, 8, 13, 21, 34, 55, 89, 144, 233]\n",
      "[8, 13, 21, 34, 55, 89, 144, 233, 377]\n"
     ]
    }
   ],
   "source": [
    "def fibonacci(s,count): \n",
    "    fib_lst=[0,1]\n",
    "    fib_part=[]\n",
    "    if s==0 or s==1:\n",
    "        fib_part[:]=fib_lst\n",
    "        for i in range(count-2):\n",
    "            fib_part.append(fib_part[-1]+fib_part[-2])\n",
    "    else:\n",
    "        while True:\n",
    "            fib_lst[:]=[fib_lst[1],fib_lst[0]+fib_lst[1]]\n",
    "            #print(fib_lst)\n",
    "            if fib_lst[1]-s>=0:break\n",
    "        fib_part[:]=fib_lst\n",
    "        if abs(fib_lst[0]-s)>=abs(fib_lst[1]-s):\n",
    "            for i in range(count-1):\n",
    "                fib_part.append(fib_part[-1]+fib_part[-2])\n",
    "            fib_part.pop(0)\n",
    "        else:\n",
    "            for i in range(count-2):\n",
    "                fib_part.append(fib_part[-1]+fib_part[-2])\n",
    "    return fib_part\n",
    "\n",
    "print(fibonacci(6,9))\n",
    "print(fibonacci(7,9))"
   ]
  },
  {
   "cell_type": "code",
   "execution_count": 42,
   "id": "33cfa8e8-ea8b-4ccf-98a7-31ddda23fc97",
   "metadata": {},
   "outputs": [
    {
     "name": "stdout",
     "output_type": "stream",
     "text": [
      "5040\n"
     ]
    }
   ],
   "source": [
    "#用递归定义阶乘 factorial\n",
    "def factorial(n):\n",
    "    if n==1:\n",
    "        return 1\n",
    "    else:\n",
    "        return n*factorial(n-1)\n",
    "print(factorial(7))"
   ]
  },
  {
   "cell_type": "markdown",
   "id": "b63efcc5-89e5-427c-9f79-811cfac1e318",
   "metadata": {},
   "source": [
    "类class------------------------------------------------"
   ]
  },
  {
   "cell_type": "code",
   "execution_count": 43,
   "id": "68b601ef-8410-438c-a819-2278096091b1",
   "metadata": {},
   "outputs": [],
   "source": [
    "class Bird:\n",
    "    fly='Whirring' #美 /wɜːr/ \n",
    "    def __init__(self):\n",
    "        self.hungry=True\n",
    "    def eat(self):\n",
    "        if self.hungry:\n",
    "            print('Aaaah...')\n",
    "            self.hungry=False\n",
    "        else:\n",
    "            print('No.Thanks!')\n",
    "\n",
    "class Apodidae(Bird):  #/'æpədədi:/\n",
    "    def __init__(self):\n",
    "        super(Apodidae,self).__init__()\n",
    "        self.sound='Squawk!' #美 /skwɔːk/ \n",
    "    def sing(self):\n",
    "        print(self.sound)\n"
   ]
  },
  {
   "cell_type": "code",
   "execution_count": 49,
   "id": "422e6ceb-e6d3-4baf-9392-63a1cfc70d96",
   "metadata": {},
   "outputs": [
    {
     "name": "stdout",
     "output_type": "stream",
     "text": [
      "Whirring\n",
      "Aaaah...\n",
      "No.Thanks!\n",
      "Squawk!\n"
     ]
    }
   ],
   "source": [
    "swift=Apodidae()\n",
    "print(swift.fly)\n",
    "swift.eat()\n",
    "swift.eat()\n",
    "swift.sing()"
   ]
  },
  {
   "cell_type": "code",
   "execution_count": 50,
   "id": "5eb178c4-80d1-4ca3-a0c5-f76218d07d4b",
   "metadata": {},
   "outputs": [
    {
     "name": "stdout",
     "output_type": "stream",
     "text": [
      "Squawk!\n",
      "Squawk!\n"
     ]
    }
   ],
   "source": [
    "blackswift=Apodidae()\n",
    "scarceswift=Apodidae()\n",
    " \n",
    "blackswift.sing()\n",
    "scarceswift.sing()"
   ]
  },
  {
   "cell_type": "code",
   "execution_count": 51,
   "id": "6c3ae4f7-2aed-4577-a323-4061d7d882f7",
   "metadata": {},
   "outputs": [
    {
     "name": "stdout",
     "output_type": "stream",
     "text": [
      "Whirring\n",
      "blackswift.fly after redefining the blackswif's attribute->humming\n",
      "Whirring\n"
     ]
    }
   ],
   "source": [
    "print(blackswift.fly)\n",
    "blackswift.fly='humming' #重新赋予实例的属性\n",
    "print(\"blackswift.fly after redefining the blackswif's attribute->{}\".format(blackswift.fly))\n",
    "print(scarceswift.fly)"
   ]
  },
  {
   "cell_type": "code",
   "execution_count": 52,
   "id": "eaa8a57b-6191-4d42-b65b-215eabb4f64d",
   "metadata": {},
   "outputs": [
    {
     "name": "stdout",
     "output_type": "stream",
     "text": [
      "Help on class Bird in module __main__:\n",
      "\n",
      "class Bird(builtins.object)\n",
      " |  Methods defined here:\n",
      " |  \n",
      " |  __init__(self)\n",
      " |      Initialize self.  See help(type(self)) for accurate signature.\n",
      " |  \n",
      " |  eat(self)\n",
      " |  \n",
      " |  ----------------------------------------------------------------------\n",
      " |  Data descriptors defined here:\n",
      " |  \n",
      " |  __dict__\n",
      " |      dictionary for instance variables (if defined)\n",
      " |  \n",
      " |  __weakref__\n",
      " |      list of weak references to the object (if defined)\n",
      " |  \n",
      " |  ----------------------------------------------------------------------\n",
      " |  Data and other attributes defined here:\n",
      " |  \n",
      " |  fly = 'Whirring'\n",
      "\n"
     ]
    }
   ],
   "source": [
    "help(Bird)"
   ]
  },
  {
   "cell_type": "code",
   "execution_count": 53,
   "id": "1f6dad1a-625b-474a-b1b6-249a413148e1",
   "metadata": {},
   "outputs": [
    {
     "name": "stdout",
     "output_type": "stream",
     "text": [
      "Help on class Apodidae in module __main__:\n",
      "\n",
      "class Apodidae(Bird)\n",
      " |  Method resolution order:\n",
      " |      Apodidae\n",
      " |      Bird\n",
      " |      builtins.object\n",
      " |  \n",
      " |  Methods defined here:\n",
      " |  \n",
      " |  __init__(self)\n",
      " |      Initialize self.  See help(type(self)) for accurate signature.\n",
      " |  \n",
      " |  sing(self)\n",
      " |  \n",
      " |  ----------------------------------------------------------------------\n",
      " |  Methods inherited from Bird:\n",
      " |  \n",
      " |  eat(self)\n",
      " |  \n",
      " |  ----------------------------------------------------------------------\n",
      " |  Data descriptors inherited from Bird:\n",
      " |  \n",
      " |  __dict__\n",
      " |      dictionary for instance variables (if defined)\n",
      " |  \n",
      " |  __weakref__\n",
      " |      list of weak references to the object (if defined)\n",
      " |  \n",
      " |  ----------------------------------------------------------------------\n",
      " |  Data and other attributes inherited from Bird:\n",
      " |  \n",
      " |  fly = 'Whirring'\n",
      "\n"
     ]
    }
   ],
   "source": [
    "help(Apodidae)"
   ]
  },
  {
   "cell_type": "markdown",
   "id": "35bf9c63-4662-4d92-9442-b05a664eb9ad",
   "metadata": {},
   "source": [
    "迭代+迭代器--------------------------------------------"
   ]
  },
  {
   "cell_type": "code",
   "execution_count": 55,
   "id": "b3a86efe-3dcd-4251-aa72-12b7382c8b50",
   "metadata": {},
   "outputs": [],
   "source": [
    "class Fibs():\n",
    "    def __init__(self):\n",
    "        self.a=0\n",
    "        self.b=1\n",
    "    def next(self):  #实现迭代器的next方法\n",
    "        self.a,self.b=self.b,self.a+self.b\n",
    "        return self.a\n",
    "    def __iter__(self): #实现迭代方法\n",
    "        return self"
   ]
  },
  {
   "cell_type": "code",
   "execution_count": 56,
   "id": "afb3e98d-3ef6-4930-9b36-6c3749487b61",
   "metadata": {},
   "outputs": [
    {
     "name": "stdout",
     "output_type": "stream",
     "text": [
      "[1, 1, 2, 3, 5, 8, 13, 21, 34]\n",
      "[55, 89, 144, 233, 377]\n"
     ]
    }
   ],
   "source": [
    "f=Fibs()\n",
    "fa=[]\n",
    "fb=[]\n",
    "for i in range(9):\n",
    "    fa.append(f.next())\n",
    "print(fa)\n",
    "for i in range(5):\n",
    "    fb.append(f.next())\n",
    "print(fb)"
   ]
  },
  {
   "cell_type": "code",
   "execution_count": 60,
   "id": "cd2e30e9-83ad-4b33-a79e-4ea1008fdec2",
   "metadata": {},
   "outputs": [
    {
     "name": "stdout",
     "output_type": "stream",
     "text": [
      "[3, 5, 7, 9, 11, 13, 15, 17, 19]\n",
      "________________________________________\n",
      "3\n",
      "5\n",
      "7\n",
      "9\n",
      "11\n",
      "13\n",
      "15\n",
      "17\n",
      "19\n"
     ]
    }
   ],
   "source": [
    "lst_d=list(range(3,20,2))\n",
    "print(lst_d)\n",
    "print(\"_\"*40)\n",
    "lst_iter=iter(lst_d)\n",
    "print(next(lst_iter))\n",
    "print(next(lst_iter))\n",
    "for i in lst_iter:\n",
    "    print(i)\n"
   ]
  },
  {
   "cell_type": "code",
   "execution_count": 61,
   "id": "a2c920eb-a058-45b4-8964-0bd7640db2d9",
   "metadata": {},
   "outputs": [
    {
     "name": "stdout",
     "output_type": "stream",
     "text": [
      "lst_e=[[3, 6, 9, 12, 15, 18], [3, 7, 67, [0, 1, 2, 3, 4], 89]]\n",
      "__________________________________________________\n",
      "flatten_lst=[3, 6, 9, 12, 15, 18, 3, 7, 67, 0, 1, 2, 3, 4, 89]\n"
     ]
    }
   ],
   "source": [
    "lst_e=[list(range(3,20,3)),[3,7,67,list(range(5)),89]]\n",
    "print(\"lst_e={}\".format(lst_e))\n",
    "print(\"_\"*50)\n",
    "flatten_lst=[]\n",
    "for v_1 in lst_e:\n",
    "    try:\n",
    "        for v_2 in v_1:\n",
    "            try:\n",
    "                for v_3 in v_2:\n",
    "                    flatten_lst.append(v_3)\n",
    "            except TypeError:\n",
    "                flatten_lst.append(v_2)\n",
    "    except TypeError:\n",
    "        flatten_lst.append(v_1)\n",
    "print(\"flatten_lst={}\".format(flatten_lst))"
   ]
  },
  {
   "cell_type": "code",
   "execution_count": 62,
   "id": "529b0b6a-f14d-4363-8c56-59ba8474b7d4",
   "metadata": {},
   "outputs": [],
   "source": [
    "def flatten(lst): #定义生成器（包含yield语句的函数）\n",
    "    try: #使用语句try\\except捕捉异常        \n",
    "        for n_lst in lst:  #循环列表            \n",
    "            for m in flatten(n_lst): #使用递归的方法循环子列表                \n",
    "                yield m  #使用yield语句，每次产生多个值，当返回一个值时函数就会被冻结，当再次激活时，从停止的那点开始执行\n",
    "    except TypeError:  #当函数被告知展开一个元素时，引发TypeError异常，生成器返回一个值\n",
    "        yield lst #生成器返回引发异常的一个值    "
   ]
  },
  {
   "cell_type": "code",
   "execution_count": 63,
   "id": "990b79d8-db19-4fb7-a328-6f79bd3af0f5",
   "metadata": {},
   "outputs": [
    {
     "name": "stdout",
     "output_type": "stream",
     "text": [
      "list(flatten(lst_e))->[3, 6, 9, 12, 15, 18, 3, 7, 67, 0, 1, 2, 3, 4, 89]\n"
     ]
    }
   ],
   "source": [
    "print(\"list(flatten(lst_e))->{}\".format(list(flatten(lst_e))))\n"
   ]
  },
  {
   "cell_type": "code",
   "execution_count": 64,
   "id": "b4232c99-37d1-4ddf-8ac3-26a00c03a5f5",
   "metadata": {},
   "outputs": [],
   "source": [
    "flatten_lst=lambda lst:[m for n_lst in lst for m in flatten_lst(n_lst)] if type(lst) is list else [lst] #lambda 生成器方法\n"
   ]
  },
  {
   "cell_type": "code",
   "execution_count": 65,
   "id": "dd13a80a-97bb-44c5-ab49-520491aab60a",
   "metadata": {},
   "outputs": [],
   "source": [
    "def infinite():\n",
    "    n=0\n",
    "    while True:\n",
    "        yield 'num#'+str(n)\n",
    "        n+=1\n"
   ]
  },
  {
   "cell_type": "code",
   "execution_count": 66,
   "id": "e0bae20f-2574-4df6-a8c6-f0287840d273",
   "metadata": {},
   "outputs": [
    {
     "name": "stdout",
     "output_type": "stream",
     "text": [
      "next(n)->num#0\n",
      "next(n)->num#1\n",
      "next(n)->num#2\n",
      "[next(n) for i in range(5)]->['num#3', 'num#4', 'num#5', 'num#6', 'num#7']\n"
     ]
    }
   ],
   "source": [
    "n=infinite()\n",
    "print(\"next(n)->{}\".format(next(n)))\n",
    "print(\"next(n)->{}\".format(next(n)))\n",
    "print(\"next(n)->{}\".format(next(n)))\n",
    "print(\"[next(n) for i in range(5)]->{}\".format([next(n) for i in range(5)]))\n"
   ]
  },
  {
   "cell_type": "markdown",
   "id": "c965be85-4ed6-42ed-b49b-afb785d4871f",
   "metadata": {},
   "source": [
    "异常 try exception--------------------------------------"
   ]
  },
  {
   "cell_type": "code",
   "execution_count": 74,
   "id": "252f2e51-9b03-4e14-9c32-a6e290839cfc",
   "metadata": {},
   "outputs": [
    {
     "name": "stdout",
     "output_type": "stream",
     "text": [
      "3.1415\n",
      "string\n",
      "(3, 6, 7)\n"
     ]
    }
   ],
   "source": [
    "def f_convert_a(x):\n",
    "    try:\n",
    "        return float(x)\n",
    "    except:\n",
    "        return x\n",
    "print(f_convert_a('3.1415'))    \n",
    "print(f_convert_a('string'))\n",
    "print(f_convert_a((3,6,7)))"
   ]
  },
  {
   "cell_type": "code",
   "execution_count": 79,
   "id": "6d284d43-3b42-4e09-a0b4-acc3386cd9f5",
   "metadata": {},
   "outputs": [
    {
     "name": "stdout",
     "output_type": "stream",
     "text": [
      "3.1415\n",
      "string\n",
      "3.0\n"
     ]
    }
   ],
   "source": [
    "def f_convert_b(x):\n",
    "    try:\n",
    "        return float(x)\n",
    "    except ValueError:\n",
    "        return x\n",
    "print(f_convert_b('3.1415'))   \n",
    "print(f_convert_b('string'))\n",
    "print(f_convert_b(3))\n"
   ]
  },
  {
   "cell_type": "code",
   "execution_count": 81,
   "id": "94101190-7662-4afb-b817-2300dd319d45",
   "metadata": {},
   "outputs": [
    {
     "name": "stdout",
     "output_type": "stream",
     "text": [
      "f_convert_b('3.1415')->3.1415\n",
      "f_convert_b('string')->string\n"
     ]
    }
   ],
   "source": [
    "def f_convert_b(x):\n",
    "    try:\n",
    "        return float(x)\n",
    "    except ValueError:\n",
    "        return x\n",
    "print(\"f_convert_b('3.1415')->{}\".format(f_convert_b('3.1415')))    \n",
    "print(\"f_convert_b('string')->{}\".format(f_convert_b('string')))  \n",
    "\n"
   ]
  },
  {
   "cell_type": "code",
   "execution_count": 82,
   "id": "c812a5d6-8cf0-49fe-ad0c-431e0e2dba05",
   "metadata": {},
   "outputs": [
    {
     "name": "stdout",
     "output_type": "stream",
     "text": [
      "f_convert_c('3.1415')->3.1415\n",
      "f_convert_c('string')->string\n",
      "(3, 6, 7) TypeError\n",
      "f_convert_c(3,6,7)->None\n"
     ]
    }
   ],
   "source": [
    "def f_convert_c(x):\n",
    "    try:\n",
    "        return float(x)\n",
    "    except ValueError:\n",
    "        return x\n",
    "    except TypeError:\n",
    "        print(x,'TypeError')\n",
    "print(\"f_convert_c('3.1415')->{}\".format(f_convert_c('3.1415')))    \n",
    "print(\"f_convert_c('string')->{}\".format(f_convert_c('string')))  \n",
    "print(\"f_convert_c(3,6,7)->{}\".format(f_convert_c((3,6,7))))         \n"
   ]
  },
  {
   "cell_type": "code",
   "execution_count": 83,
   "id": "36bb9c42-46cb-492d-aefe-9ff50613dafa",
   "metadata": {},
   "outputs": [
    {
     "name": "stdout",
     "output_type": "stream",
     "text": [
      "f_convert_d('3.1415')->3.1415\n",
      "string ValueError or TypeError\n",
      "f_convert_d('string')->None\n",
      "(3, 6, 7) ValueError or TypeError\n",
      "f_convert_d(3,6,7)->None\n"
     ]
    }
   ],
   "source": [
    "def f_convert_d(x):\n",
    "    try:\n",
    "        return float(x)\n",
    "    except (ValueError,TypeError):\n",
    "        print(x,'ValueError or TypeError')\n",
    "print(\"f_convert_d('3.1415')->{}\".format(f_convert_d('3.1415')))    \n",
    "print(\"f_convert_d('string')->{}\".format(f_convert_d('string')))  \n",
    "print(\"f_convert_d(3,6,7)->{}\".format(f_convert_d((3,6,7)))) "
   ]
  },
  {
   "cell_type": "code",
   "execution_count": 84,
   "id": "0419e6fb-d910-469a-850c-c04bc3551cc8",
   "metadata": {},
   "outputs": [
    {
     "name": "stdout",
     "output_type": "stream",
     "text": [
      "f_convert_e('3.1415')->3.1415\n",
      "string could not convert string to float: 'string'\n",
      "f_convert_e('string')->None\n",
      "(3, 6, 7) float() argument must be a string or a number, not 'tuple'\n",
      "f_convert_e(3,6,7)->None\n"
     ]
    }
   ],
   "source": [
    "def f_convert_e(x):\n",
    "    try:\n",
    "        return float(x)\n",
    "    except (ValueError,TypeError) as e:\n",
    "        return print(x,e)\n",
    "print(\"f_convert_e('3.1415')->{}\".format(f_convert_e('3.1415')))    \n",
    "print(\"f_convert_e('string')->{}\".format(f_convert_e('string')))  \n",
    "print(\"f_convert_e(3,6,7)->{}\".format(f_convert_e((3,6,7))))    \n"
   ]
  },
  {
   "cell_type": "code",
   "execution_count": 85,
   "id": "981bb70b-b05f-47ac-b6b3-52dc5e89a2a0",
   "metadata": {},
   "outputs": [
    {
     "name": "stdout",
     "output_type": "stream",
     "text": [
      "f_convert_f('3.1415')->3.1415\n",
      "f_convert_f('string')->None\n",
      "f_convert_f(3,6,7)->None\n"
     ]
    }
   ],
   "source": [
    "def f_convert_f(x):\n",
    "    try:\n",
    "        return float(x)\n",
    "    except (ValueError,TypeError) as e:\n",
    "        pass\n",
    "print(\"f_convert_f('3.1415')->{}\".format(f_convert_f('3.1415')))    \n",
    "print(\"f_convert_f('string')->{}\".format(f_convert_f('string')))  \n",
    "print(\"f_convert_f(3,6,7)->{}\".format(f_convert_f((3,6,7))))     \n"
   ]
  },
  {
   "cell_type": "code",
   "execution_count": 86,
   "id": "ded38fc7-acec-4dff-a120-5f9d362c2f9e",
   "metadata": {},
   "outputs": [
    {
     "name": "stdout",
     "output_type": "stream",
     "text": [
      "Unable to open ./data/tryException.txt :[Errno 2] No such file or directory: './data/tryException.txt'\n",
      "\n",
      "tryException_content->None\n",
      "Unable to open ./data/tryException_.txt :[Errno 2] No such file or directory: './data/tryException_.txt'\n",
      "\n"
     ]
    }
   ],
   "source": [
    "def f_open_a(fp):\n",
    "    try:\n",
    "        f=open(fp,'r')\n",
    "    except IOError as e:\n",
    "        print('Unable to open',fp,':%s\\n' %e)\n",
    "    else:\n",
    "        data=f.read()\n",
    "        f.close\n",
    "        return data\n",
    "tryException_content=f_open_a(\"./data/tryException.txt\")   \n",
    "print(\"tryException_content->{}\".format(tryException_content))\n",
    "f_open_a(\"./data/tryException_.txt\")\n"
   ]
  },
  {
   "cell_type": "code",
   "execution_count": 87,
   "id": "5865da28-7d12-4e5c-a400-c3991e9658b0",
   "metadata": {},
   "outputs": [
    {
     "name": "stdout",
     "output_type": "stream",
     "text": [
      "Unable to open ./data/tryException.txt :[Errno 2] No such file or directory: './data/tryException.txt'\n",
      "\n",
      "done!\n"
     ]
    }
   ],
   "source": [
    "def f_open_b(fp):\n",
    "    try:\n",
    "        f=open(fp,'r')\n",
    "    except IOError as e:\n",
    "        print('Unable to open',fp,':%s\\n' %e)\n",
    "    else:\n",
    "        data=f.read()\n",
    "        f.close()\n",
    "        return data\n",
    "    finally:\n",
    "        print('done!')\n",
    "f_open_b(\"./data/tryException.txt\")        \n"
   ]
  },
  {
   "cell_type": "markdown",
   "id": "82aef1b0-79f5-4595-a829-2a3b03649809",
   "metadata": {},
   "source": [
    "raise Exception #没有任何有关错误信息的普通异常\n"
   ]
  },
  {
   "cell_type": "code",
   "execution_count": 88,
   "id": "947db0f3-2a13-4f5b-bcca-1ff314bc48ff",
   "metadata": {},
   "outputs": [
    {
     "ename": "Exception",
     "evalue": "Computer says no!",
     "output_type": "error",
     "traceback": [
      "\u001b[1;31m---------------------------------------------------------------------------\u001b[0m",
      "\u001b[1;31mException\u001b[0m                                 Traceback (most recent call last)",
      "\u001b[1;32m<ipython-input-88-9adaf43138bd>\u001b[0m in \u001b[0;36m<module>\u001b[1;34m\u001b[0m\n\u001b[1;32m----> 1\u001b[1;33m \u001b[1;32mraise\u001b[0m \u001b[0mException\u001b[0m\u001b[1;33m(\u001b[0m\u001b[1;34m'Computer says no!'\u001b[0m\u001b[1;33m)\u001b[0m \u001b[1;31m#添加错误信息的异常\u001b[0m\u001b[1;33m\u001b[0m\u001b[1;33m\u001b[0m\u001b[0m\n\u001b[0m",
      "\u001b[1;31mException\u001b[0m: Computer says no!"
     ]
    }
   ],
   "source": [
    "raise Exception('Computer says no!') #添加错误信息的异常"
   ]
  },
  {
   "cell_type": "code",
   "execution_count": 89,
   "id": "f7585828-fc0f-4331-b397-e42f31ddf45e",
   "metadata": {},
   "outputs": [
    {
     "ename": "some_custom_exception",
     "evalue": "",
     "output_type": "error",
     "traceback": [
      "\u001b[1;31m---------------------------------------------------------------------------\u001b[0m",
      "\u001b[1;31msome_custom_exception\u001b[0m                     Traceback (most recent call last)",
      "\u001b[1;32m<ipython-input-89-dd2d27a8cc29>\u001b[0m in \u001b[0;36m<module>\u001b[1;34m\u001b[0m\n\u001b[0;32m      1\u001b[0m \u001b[1;32mclass\u001b[0m \u001b[0msome_custom_exception\u001b[0m\u001b[1;33m(\u001b[0m\u001b[0mException\u001b[0m\u001b[1;33m)\u001b[0m\u001b[1;33m:\u001b[0m\u001b[1;32mpass\u001b[0m \u001b[1;31m#\u001b[0m\u001b[1;33m\u001b[0m\u001b[1;33m\u001b[0m\u001b[0m\n\u001b[1;32m----> 2\u001b[1;33m \u001b[1;32mraise\u001b[0m \u001b[0msome_custom_exception\u001b[0m\u001b[1;33m\u001b[0m\u001b[1;33m\u001b[0m\u001b[0m\n\u001b[0m",
      "\u001b[1;31msome_custom_exception\u001b[0m: "
     ]
    }
   ],
   "source": [
    "class some_custom_exception(Exception):pass #\n",
    "raise some_custom_exception"
   ]
  },
  {
   "cell_type": "code",
   "execution_count": 90,
   "id": "b3e8e82e-ec4b-471c-b1dc-e54c69a40d5e",
   "metadata": {},
   "outputs": [],
   "source": [
    "x=20\n",
    "assert x>0 #为真则不做任何事情\n"
   ]
  },
  {
   "cell_type": "code",
   "execution_count": 91,
   "id": "d2acf60e-47bf-46db-9c18-cb1df9c61c93",
   "metadata": {},
   "outputs": [],
   "source": [
    "x=20\n",
    "assert x>0 #为真则不做任何事情\n"
   ]
  },
  {
   "cell_type": "code",
   "execution_count": null,
   "id": "93ee67ac-9154-4e41-b649-c4b3ae646427",
   "metadata": {},
   "outputs": [],
   "source": []
  }
 ],
 "metadata": {
  "kernelspec": {
   "display_name": "Python 3",
   "language": "python",
   "name": "python3"
  },
  "language_info": {
   "codemirror_mode": {
    "name": "ipython",
    "version": 3
   },
   "file_extension": ".py",
   "mimetype": "text/x-python",
   "name": "python",
   "nbconvert_exporter": "python",
   "pygments_lexer": "ipython3",
   "version": "3.8.8"
  }
 },
 "nbformat": 4,
 "nbformat_minor": 5
}
